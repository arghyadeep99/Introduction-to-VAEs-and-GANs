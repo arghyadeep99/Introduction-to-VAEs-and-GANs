{
  "nbformat": 4,
  "nbformat_minor": 0,
  "metadata": {
    "colab": {
      "name": "Revision of CNN.ipynb",
      "provenance": [],
      "collapsed_sections": [
        "IHxOHn4Lkewd",
        "hk8UAglbkq82",
        "H33p3s9Kk4F1",
        "npOSSkRqk_B1",
        "IJ7_o41byRMq",
        "6jNvS2mBzcQD",
        "Hr58e6sD4OuL",
        "dXPFilDV495B",
        "tQo-Ud3J5t46"
      ],
      "include_colab_link": true
    },
    "kernelspec": {
      "name": "python3",
      "display_name": "Python 3"
    },
    "accelerator": "GPU"
  },
  "cells": [
    {
      "cell_type": "markdown",
      "metadata": {
        "id": "view-in-github",
        "colab_type": "text"
      },
      "source": [
        "<a href=\"https://colab.research.google.com/github/smlra-kjsce/Introduction-to-VAEs-and-GANs/blob/master/Revision%20of%20CNN.ipynb\" target=\"_parent\"><img src=\"https://colab.research.google.com/assets/colab-badge.svg\" alt=\"Open In Colab\"/></a>"
      ]
    },
    {
      "cell_type": "markdown",
      "metadata": {
        "id": "cOBWp6QIfxnh",
        "colab_type": "text"
      },
      "source": [
        "#Convolutional Neural Networks\n",
        "<ul>\n",
        "  <li><a href=\"https://adeshpande3.github.io/A-Beginner%27s-Guide-To-Understanding-Convolutional-Neural-Networks/\">What are convolutional neural networks?</a></li>\n",
        "<ul>"
      ]
    },
    {
      "cell_type": "markdown",
      "metadata": {
        "id": "aBeCBae0PUf8",
        "colab_type": "text"
      },
      "source": [
        "### There are four main operations in a general CNN:\n",
        "\n",
        "1. Convolution\n",
        "2. Non Linearity (ReLU)\n",
        "3. Pooling or Sub Sampling\n",
        "4. Classification (Fully Connected Layer)"
      ]
    },
    {
      "cell_type": "markdown",
      "metadata": {
        "id": "Q_ICFWtzP-OY",
        "colab_type": "text"
      },
      "source": [
        "<figure>\n",
        "<center>\n",
        "<img src='https://drive.google.com/uc?id=1JVcAkiXWCj5TAGk7zoh3t2F4JlLfkAYy'/>\n",
        "  </center>\n",
        "  <center><figcaption><b>What a computer sees</b></figcaption></center>\n",
        "</figure>"
      ]
    },
    {
      "cell_type": "markdown",
      "metadata": {
        "id": "uoOeCZpXlN_U",
        "colab_type": "text"
      },
      "source": [
        "## 1. The convolution step\n",
        "<figure>\n",
        "<center>\n",
        "<img src='https://drive.google.com/uc?id=1JxrG91x3lEWSm40kQxGHNbKl2e5hBrt4'/>\n",
        "  </center>\n",
        "  <center><figcaption><b>Understanding what happens in Convolution</b></figcaption></center>\n",
        "</figure>\n",
        "\n",
        "<figure>\n",
        "<center>\n",
        "<img src='https://drive.google.com/uc?id=1vl3-hkq8nPONWFBQa1YU7Y0RuiIEv9Ue'/>\n",
        "  </center>\n",
        "  <center><figcaption><b>Result of convolution</b></figcaption></center>\n",
        "</figure>\n",
        "\n",
        "<figure>\n",
        "<center>\n",
        "<img src='https://drive.google.com/uc?id=1QumoiRuwx-g4N-F4vLOyOUDWqt9OsxWP'/>\n",
        "  </center>\n",
        "  <center><figcaption><b>Some common filters</b></figcaption></center>\n",
        "</figure>\n",
        "\n",
        "<figure>\n",
        "<center>\n",
        "<img src='https://drive.google.com/uc?id=17Bk_CnB1VjimpkWP7q9tZKqQ-lK8XJun'/>\n",
        "  </center>\n",
        "  <center><figcaption><b>Generation of feature maps</b></figcaption></center>\n",
        "</figure>\n",
        "\n",
        "<figure>\n",
        "<center>\n",
        "<img src='https://drive.google.com/uc?id=1Te-E_r68MH6A_QGBDGLx1scADZ2_RfKz'/>\n",
        "  </center>\n",
        "  <center><figcaption><b>Stack of feature maps</b></figcaption></center>\n",
        "</figure>"
      ]
    },
    {
      "cell_type": "markdown",
      "metadata": {
        "id": "iIAHRbSOReiD",
        "colab_type": "text"
      },
      "source": [
        "## 2. Introducing non-linearity (ReLU function in this case)\n",
        "\n",
        "ReLU is an element wise operation (applied per pixel) and replaces all negative pixel values in the feature map by zero. The purpose of ReLU is to introduce non-linearity in our ConvNet, since most of the real-world data we would want our ConvNet to learn would be non-linear (Convolution is a linear operation – element wise matrix multiplication and addition, so we account for non-linearity by introducing a non-linear function like ReLU). Other non linear functions such as tanh or sigmoid can also be used instead of ReLU, but ReLU has been found to perform better in most situations.\n",
        "\n",
        "\n",
        "<figure>\n",
        "<center>\n",
        "<img src='https://drive.google.com/uc?id=1l1L0z_wjDxgOH2al8rjygDBUM7Ybvo11'/>\n",
        "  </center>\n",
        "  <center><figcaption><b>Result of \"ReLUfication\"</b></figcaption></center>\n",
        "</figure>"
      ]
    },
    {
      "cell_type": "markdown",
      "metadata": {
        "id": "IteLWimUSG7T",
        "colab_type": "text"
      },
      "source": [
        "## 3. Pooling or Sub Sampling\n",
        "\n",
        "Spatial Pooling (also called subsampling or downsampling) reduces the dimensionality of each feature map but retains the most important information. Spatial Pooling can be of different types: Max, Average, Sum etc.\n",
        "\n",
        "In case of Max Pooling, we define a spatial neighborhood (for example, a 2×2 window) and take the largest element from the rectified feature map within that window. Instead of taking the largest element we could also take the average (Average Pooling) or sum of all elements in that window. In practice, Max Pooling has been shown to work better.\n",
        "\n",
        "<figure>\n",
        "<center>\n",
        "<img src='https://drive.google.com/uc?id=1qZ7BIOC3VVt-4HVvpG0PJXTNdoLRY84g'/>\n",
        "  </center>\n",
        "  <center><figcaption><b>How max pooling works</b></figcaption></center>\n",
        "</figure>\n",
        "\n",
        "We slide our 2 x 2 window by 2 cells (also called ‘stride’) and take the maximum value in each region. This reduces the dimensionality of our feature map.\n",
        "\n",
        "In the network shown below, pooling operation is applied separately to each feature map (notice that, due to this, we get three output maps from three input maps).\n",
        "\n",
        "<figure>\n",
        "<center>\n",
        "<img src='https://drive.google.com/uc?id=1c1PLdRPkIeqFXZWytUDJpQX-uPcMUEVg'/>\n",
        "  </center>\n",
        "  <center><figcaption><b>Stack of pooled layers</b></figcaption></center>\n",
        "</figure>\n",
        "\n",
        "The function of Pooling is to progressively reduce the spatial size of the input representation. In particular, pooling:\n",
        "1. makes the input representations (feature dimension) smaller and more manageable \n",
        "2. reduces the number of parameters and computations in the network, therefore, controlling overfitting \n",
        "3. makes the network invariant to small transformations, distortions and translations in the input image (a small distortion in input will not change the output of Pooling – since we take the maximum / average value in a local neighborhood).\n",
        "4. helps us arrive at an almost scale invariant representation of our image (the exact term is “equivariant”). This is very powerful since we can detect objects in an image no matter where they are located.\n",
        "\n",
        "<figure>\n",
        "<center>\n",
        "<img src='https://drive.google.com/uc?id=1teXgbRKEY--9JfmbInHyeDXMVpQR0iks'/>\n",
        "  </center>\n",
        "  <center><figcaption><b>Result of pooling</b></figcaption></center>\n",
        "</figure>"
      ]
    },
    {
      "cell_type": "markdown",
      "metadata": {
        "id": "QOjHMRn1U8_e",
        "colab_type": "text"
      },
      "source": [
        "## 4. Fully connected layer\n",
        "\n",
        "he Fully Connected layer is a traditional Multi Layer Perceptron that uses a softmax activation function in the output layer (other classifiers like SVM can also be used, but will stick to softmax in this post). The term “Fully Connected” implies that every neuron in the previous layer is connected to every neuron on the next layer. I recommend reading this post if you are unfamiliar with Multi Layer Perceptrons.\n",
        "\n",
        "The output from the convolutional and pooling layers represent high-level features of the input image. The purpose of the Fully Connected layer is to use these features for classifying the input image into various classes based on the training dataset. For example, the image classification task we set out to perform has four possible outputs.\n",
        "\n",
        "Apart from classification, adding a fully-connected layer is also a (usually) cheap way of learning non-linear combinations of these features. Most of the features from convolutional and pooling layers may be good for the classification task, but combinations of those features might be even better.\n",
        "\n",
        "The sum of output probabilities from the Fully Connected Layer is 1. This is ensured by using the Softmax as the activation function in the output layer of the Fully Connected Layer. The Softmax function takes a vector of arbitrary real-valued scores and squashes it to a vector of values between zero and one that sum to one.\n",
        "\n",
        "## 5. The final picture (pun intended)\n",
        "\n",
        "Understanding backpropogation\n",
        "\n",
        "<figure>\n",
        "<center>\n",
        "<img src='https://drive.google.com/uc?id=1F30C-fIU9UADqRyGJfss7PfhHarH28Ln'/>\n",
        "  </center>\n",
        "  <center><figcaption><b>The final picture</b></figcaption></center>\n",
        "</figure>\n",
        "\n",
        "Image Credits: https://ujjwalkarn.me/2016/08/11/intuitive-explanation-convnets/"
      ]
    },
    {
      "cell_type": "markdown",
      "metadata": {
        "id": "pREN0A_pkOpd",
        "colab_type": "text"
      },
      "source": [
        "##Building the model"
      ]
    },
    {
      "cell_type": "markdown",
      "metadata": {
        "id": "IHxOHn4Lkewd",
        "colab_type": "text"
      },
      "source": [
        "### Adding PyTorch to this notebook and Importing Files"
      ]
    },
    {
      "cell_type": "code",
      "metadata": {
        "id": "Q7ortZIJjvFw",
        "colab_type": "code",
        "outputId": "97cb5a79-972e-4f92-917e-6c41ea9014ae",
        "colab": {
          "base_uri": "https://localhost:8080/"
        }
      },
      "source": [
        "# make sure to enable GPU acceleration! == Done\n",
        "device = 'cuda'\n",
        "\n",
        "!pip3 install torch torchvision\n",
        "!pip install torchviz\n",
        "\n",
        "#Import Libraries\n",
        "\n",
        "\n",
        "from __future__ import print_function\n",
        "import argparse\n",
        "import torch\n",
        "import torch.nn as nn\n",
        "import torch.nn.functional as F\n",
        "import torch.optim as optim\n",
        "from torchvision import datasets, transforms\n",
        "from torch.autograd import Variable\n",
        "import numpy as np\n",
        "import matplotlib.pyplot as plt\n",
        "from math import pi\n",
        "from copy import deepcopy\n",
        "from torchviz import make_dot, make_dot_from_trace"
      ],
      "execution_count": 0,
      "outputs": [
        {
          "output_type": "stream",
          "text": [
            "Requirement already satisfied: torch in /usr/local/lib/python3.6/dist-packages (1.1.0)\n",
            "Requirement already satisfied: torchvision in /usr/local/lib/python3.6/dist-packages (0.3.0)\n",
            "Requirement already satisfied: numpy in /usr/local/lib/python3.6/dist-packages (from torch) (1.16.4)\n",
            "Requirement already satisfied: six in /usr/local/lib/python3.6/dist-packages (from torchvision) (1.12.0)\n",
            "Requirement already satisfied: pillow>=4.1.1 in /usr/local/lib/python3.6/dist-packages (from torchvision) (4.3.0)\n",
            "Requirement already satisfied: olefile in /usr/local/lib/python3.6/dist-packages (from pillow>=4.1.1->torchvision) (0.46)\n",
            "Collecting torchviz\n",
            "\u001b[?25l  Downloading https://files.pythonhosted.org/packages/8f/8e/a9630c7786b846d08b47714dd363a051f5e37b4ea0e534460d8cdfc1644b/torchviz-0.0.1.tar.gz (41kB)\n",
            "\u001b[K     |████████████████████████████████| 51kB 4.6MB/s \n",
            "\u001b[?25hRequirement already satisfied: torch in /usr/local/lib/python3.6/dist-packages (from torchviz) (1.1.0)\n",
            "Requirement already satisfied: graphviz in /usr/local/lib/python3.6/dist-packages (from torchviz) (0.10.1)\n",
            "Requirement already satisfied: numpy in /usr/local/lib/python3.6/dist-packages (from torch->torchviz) (1.16.4)\n",
            "Building wheels for collected packages: torchviz\n",
            "  Building wheel for torchviz (setup.py) ... \u001b[?25l\u001b[?25hdone\n",
            "  Created wheel for torchviz: filename=torchviz-0.0.1-cp36-none-any.whl size=3520 sha256=12a35599acd74d7e9a3bcf3993c15bc006431ba3eb645f3ac6cdde37d0032cf7\n",
            "  Stored in directory: /root/.cache/pip/wheels/2a/c2/c5/b8b4d0f7992c735f6db5bfa3c5f354cf36502037ca2b585667\n",
            "Successfully built torchviz\n",
            "Installing collected packages: torchviz\n",
            "Successfully installed torchviz-0.0.1\n"
          ],
          "name": "stdout"
        }
      ]
    },
    {
      "cell_type": "markdown",
      "metadata": {
        "id": "hk8UAglbkq82",
        "colab_type": "text"
      },
      "source": [
        "###All Paramteres for training the model"
      ]
    },
    {
      "cell_type": "code",
      "metadata": {
        "id": "0VhjMJ9hkzEF",
        "colab_type": "code",
        "colab": {}
      },
      "source": [
        "args={}\n",
        "kwargs={}\n",
        "args['batch_size']=1000\n",
        "args['test_batch_size']=1000\n",
        "args['epochs']=10  #The number of Epochs is the number of times you go through the full dataset. \n",
        "args['lr']=0.01 #Learning rate is how fast it will decend. \n",
        "args['momentum']=0.5 #SGD momentum (default: 0.5) Momentum is a moving average of our gradients (helps to keep direction).\n",
        "\n",
        "args['seed']=1 #random seed\n",
        "args['log_interval']=10\n",
        "args['cuda']=True"
      ],
      "execution_count": 0,
      "outputs": []
    },
    {
      "cell_type": "markdown",
      "metadata": {
        "id": "H33p3s9Kk4F1",
        "colab_type": "text"
      },
      "source": [
        "###Downloading and pre-processing data"
      ]
    },
    {
      "cell_type": "code",
      "metadata": {
        "id": "ph9MZxnqk3LQ",
        "colab_type": "code",
        "outputId": "12ca8da6-c563-4a99-f405-193ac3482173",
        "colab": {
          "base_uri": "https://localhost:8080/"
        }
      },
      "source": [
        "#load the data\n",
        "train_loader = torch.utils.data.DataLoader(\n",
        "    datasets.MNIST('../data', train=True, download=True,\n",
        "                   transform=transforms.Compose([\n",
        "                       transforms.ToTensor(),\n",
        "                       transforms.Normalize((0.1307,), (0.3081,))\n",
        "                   ])),\n",
        "    batch_size=args['batch_size'], shuffle=True, **kwargs)\n",
        "test_loader = torch.utils.data.DataLoader(\n",
        "    datasets.MNIST('../data', train=False, transform=transforms.Compose([\n",
        "                       transforms.ToTensor(),\n",
        "                       transforms.Normalize((0.1307,), (0.3081,))\n",
        "                   ])),\n",
        "    batch_size=args['test_batch_size'], shuffle=True, **kwargs)\n",
        "\n",
        "data = datasets.MNIST('../data', train=False, transform=transforms.Compose([\n",
        "                       transforms.ToTensor(),\n",
        "                       transforms.Normalize((0.1307,), (0.3081,))\n",
        "                   ]))"
      ],
      "execution_count": 0,
      "outputs": [
        {
          "output_type": "stream",
          "text": [
            "  0%|          | 0/9912422 [00:00<?, ?it/s]"
          ],
          "name": "stderr"
        },
        {
          "output_type": "stream",
          "text": [
            "Downloading http://yann.lecun.com/exdb/mnist/train-images-idx3-ubyte.gz to ../data/MNIST/raw/train-images-idx3-ubyte.gz\n"
          ],
          "name": "stdout"
        },
        {
          "output_type": "stream",
          "text": [
            "9920512it [00:00, 21906603.24it/s]                            \n"
          ],
          "name": "stderr"
        },
        {
          "output_type": "stream",
          "text": [
            "Extracting ../data/MNIST/raw/train-images-idx3-ubyte.gz\n"
          ],
          "name": "stdout"
        },
        {
          "output_type": "stream",
          "text": [
            "32768it [00:00, 335428.03it/s]\n",
            "0it [00:00, ?it/s]"
          ],
          "name": "stderr"
        },
        {
          "output_type": "stream",
          "text": [
            "Downloading http://yann.lecun.com/exdb/mnist/train-labels-idx1-ubyte.gz to ../data/MNIST/raw/train-labels-idx1-ubyte.gz\n",
            "Extracting ../data/MNIST/raw/train-labels-idx1-ubyte.gz\n",
            "Downloading http://yann.lecun.com/exdb/mnist/t10k-images-idx3-ubyte.gz to ../data/MNIST/raw/t10k-images-idx3-ubyte.gz\n"
          ],
          "name": "stdout"
        },
        {
          "output_type": "stream",
          "text": [
            "1654784it [00:00, 5844890.47it/s]                           \n",
            "8192it [00:00, 130587.80it/s]\n"
          ],
          "name": "stderr"
        },
        {
          "output_type": "stream",
          "text": [
            "Extracting ../data/MNIST/raw/t10k-images-idx3-ubyte.gz\n",
            "Downloading http://yann.lecun.com/exdb/mnist/t10k-labels-idx1-ubyte.gz to ../data/MNIST/raw/t10k-labels-idx1-ubyte.gz\n",
            "Extracting ../data/MNIST/raw/t10k-labels-idx1-ubyte.gz\n",
            "Processing...\n",
            "Done!\n"
          ],
          "name": "stdout"
        }
      ]
    },
    {
      "cell_type": "markdown",
      "metadata": {
        "id": "npOSSkRqk_B1",
        "colab_type": "text"
      },
      "source": [
        "###Defining the model"
      ]
    },
    {
      "cell_type": "markdown",
      "metadata": {
        "id": "i98jratNpvJu",
        "colab_type": "text"
      },
      "source": [
        "<figure>\n",
        "<center>\n",
        "<img src='https://drive.google.com/uc?id=1NQbtJmkDPsu9vzfT1qSgpLskEDR9tiqA'/>\n",
        "  </center>\n",
        "  <center><figcaption><b>Understanding the dilation parameter</b></figcaption></center>\n",
        "</figure>"
      ]
    },
    {
      "cell_type": "code",
      "metadata": {
        "id": "mq_y4gc3lJ1f",
        "colab_type": "code",
        "colab": {}
      },
      "source": [
        "class Net(nn.Module):\n",
        "    #This defines the structure of the NN.\n",
        "    def __init__(self):\n",
        "        super(Net, self).__init__()\n",
        "        self.conv1 = nn.Conv2d(1, 16, kernel_size=5, stride = 1, padding=0, dilation=1, groups=1, bias=True, padding_mode='zeros')\n",
        "        self.conv2 = nn.Conv2d(16, 32, kernel_size=5, stride = 1, padding=0, dilation=1, groups=1, bias=True, padding_mode='zeros')\n",
        "        self.conv3 = nn.Conv2d(32,64, kernel_size=5, stride = 1, padding=0, dilation=1, groups=1, bias=True, padding_mode='zeros')\n",
        "        self.fc1 = nn.Linear(3*3*64, 256)\n",
        "        self.fc2 = nn.Linear(256, 10)\n",
        "\n",
        "    def forward(self, x):\n",
        "        self.x = x\n",
        "        self.after_conv1 = self.conv1(self.x) \n",
        "        self.after_relu1 = F.relu(self.after_conv1)\n",
        "        self.after_conv2 = self.conv2(self.after_relu1)\n",
        "        self.after_maxpool2 = F.max_pool2d(self.after_conv2, 2)\n",
        "        self.after_relu2 = F.relu(self.after_maxpool2)\n",
        "        self.after_dropout2 = F.dropout(self.after_relu2, p=0.5, training=self.training)\n",
        "        self.after_conv3 = self.conv3(self.after_dropout2)\n",
        "        self.after_maxpool3 = F.max_pool2d(self.after_conv3,2)\n",
        "        self.after_relu3 = F.relu(self.after_maxpool3)\n",
        "        self.after_dropout3 = F.dropout(self.after_relu3, p=0.5, training=self.training)\n",
        "        self.after_reshape = self.after_dropout3.view(-1,3*3*64 )\n",
        "        self.after_fc4 = self.fc1(self.after_reshape)\n",
        "        self.after_relu4 = F.relu(self.after_fc4)\n",
        "        self.after_dropout4 = F.dropout(self.after_relu4, training=self.training)\n",
        "        self.after_fc5 = self.fc2(self.after_dropout4)\n",
        "        return F.log_softmax(self.after_fc5, dim=1)"
      ],
      "execution_count": 0,
      "outputs": []
    },
    {
      "cell_type": "markdown",
      "metadata": {
        "id": "IJ7_o41byRMq",
        "colab_type": "text"
      },
      "source": [
        "###Training and Testing the Model\n"
      ]
    },
    {
      "cell_type": "code",
      "metadata": {
        "id": "J39pN6C0yUr_",
        "colab_type": "code",
        "outputId": "2bb86b3d-891d-4f7c-e4fb-0e4572dc54a1",
        "colab": {
          "base_uri": "https://localhost:8080/"
        }
      },
      "source": [
        "def train(epoch):\n",
        "    model.train()\n",
        "    for batch_idx, (data, target) in enumerate(train_loader):\n",
        "        if args['cuda']:\n",
        "            data, target = data.cuda(), target.cuda()\n",
        "        #Variables in Pytorch are differenciable. \n",
        "        data, target = Variable(data), Variable(target)\n",
        "        #This will zero out the gradients for this batch. \n",
        "        optimizer.zero_grad()\n",
        "        output = model(data)\n",
        "        # Calculate the loss The negative log likelihood loss. It is useful to train a classification problem with C classes.\n",
        "        loss = F.nll_loss(output, target)\n",
        "        # print(loss)\n",
        "        #dloss/dx for every Variable \n",
        "        loss.backward()\n",
        "        #to do a one-step update on our parameter.\n",
        "        optimizer.step()\n",
        "        #Print out the loss periodically. \n",
        "        if batch_idx % args['log_interval'] == 0:\n",
        "            print('Train Epoch: {} [{}/{} ({:.0f}%)]\\tLoss: {:.6f}'.format(\n",
        "                epoch, batch_idx * len(data), len(train_loader.dataset),\n",
        "                100. * batch_idx / len(train_loader), loss.data))\n",
        "\n",
        "def test():\n",
        "    model.eval()\n",
        "    test_loss = 0\n",
        "    correct = 0\n",
        "    for data, target in test_loader:\n",
        "        if args['cuda']:\n",
        "            data, target = data.cuda(), target.cuda()\n",
        "        data, target = Variable(data, volatile=True), Variable(target)\n",
        "        output = model(data)\n",
        "        test_loss += F.nll_loss(output, target, size_average=False).data # sum up batch loss\n",
        "        pred = output.data.max(1, keepdim=True)[1] # get the index of the max log-probability\n",
        "        correct += pred.eq(target.data.view_as(pred)).long().cpu().sum()\n",
        "\n",
        "    test_loss /= len(test_loader.dataset)\n",
        "    print('\\nTest set: Average loss: {:.4f}, Accuracy: {}/{} ({:.0f}%)\\n'.format(\n",
        "        test_loss, correct, len(test_loader.dataset),\n",
        "        100. * correct / len(test_loader.dataset)))\n",
        "            \n",
        "model = Net()\n",
        "if args['cuda']:\n",
        "    model.cuda()\n",
        "\n",
        "optimizer = optim.SGD(model.parameters(), lr=args['lr'], momentum=args['momentum'])\n",
        "\n",
        "for epoch in range(1, args['epochs'] + 1):\n",
        "    train(epoch)\n",
        "    test()"
      ],
      "execution_count": 0,
      "outputs": [
        {
          "output_type": "stream",
          "text": [
            "Train Epoch: 1 [0/60000 (0%)]\tLoss: 2.319651\n",
            "Train Epoch: 1 [10000/60000 (17%)]\tLoss: 2.307608\n",
            "Train Epoch: 1 [20000/60000 (33%)]\tLoss: 2.299467\n",
            "Train Epoch: 1 [30000/60000 (50%)]\tLoss: 2.294416\n",
            "Train Epoch: 1 [40000/60000 (67%)]\tLoss: 2.286313\n",
            "Train Epoch: 1 [50000/60000 (83%)]\tLoss: 2.287686\n"
          ],
          "name": "stdout"
        },
        {
          "output_type": "stream",
          "text": [
            "/usr/local/lib/python3.6/dist-packages/ipykernel_launcher.py:31: UserWarning: volatile was removed and now has no effect. Use `with torch.no_grad():` instead.\n",
            "/usr/local/lib/python3.6/dist-packages/torch/nn/_reduction.py:46: UserWarning: size_average and reduce args will be deprecated, please use reduction='sum' instead.\n",
            "  warnings.warn(warning.format(ret))\n"
          ],
          "name": "stderr"
        },
        {
          "output_type": "stream",
          "text": [
            "\n",
            "Test set: Average loss: 2.2664, Accuracy: 3299/10000 (32%)\n",
            "\n",
            "Train Epoch: 2 [0/60000 (0%)]\tLoss: 2.276994\n",
            "Train Epoch: 2 [10000/60000 (17%)]\tLoss: 2.261916\n",
            "Train Epoch: 2 [20000/60000 (33%)]\tLoss: 2.256086\n",
            "Train Epoch: 2 [30000/60000 (50%)]\tLoss: 2.256189\n",
            "Train Epoch: 2 [40000/60000 (67%)]\tLoss: 2.228010\n",
            "Train Epoch: 2 [50000/60000 (83%)]\tLoss: 2.209493\n",
            "\n",
            "Test set: Average loss: 2.1656, Accuracy: 6251/10000 (62%)\n",
            "\n",
            "Train Epoch: 3 [0/60000 (0%)]\tLoss: 2.199782\n",
            "Train Epoch: 3 [10000/60000 (17%)]\tLoss: 2.170506\n",
            "Train Epoch: 3 [20000/60000 (33%)]\tLoss: 2.124279\n",
            "Train Epoch: 3 [30000/60000 (50%)]\tLoss: 2.041222\n",
            "Train Epoch: 3 [40000/60000 (67%)]\tLoss: 1.973004\n",
            "Train Epoch: 3 [50000/60000 (83%)]\tLoss: 1.873237\n",
            "\n",
            "Test set: Average loss: 1.5402, Accuracy: 7328/10000 (73%)\n",
            "\n",
            "Train Epoch: 4 [0/60000 (0%)]\tLoss: 1.727988\n",
            "Train Epoch: 4 [10000/60000 (17%)]\tLoss: 1.591698\n",
            "Train Epoch: 4 [20000/60000 (33%)]\tLoss: 1.502393\n",
            "Train Epoch: 4 [30000/60000 (50%)]\tLoss: 1.363354\n",
            "Train Epoch: 4 [40000/60000 (67%)]\tLoss: 1.298051\n",
            "Train Epoch: 4 [50000/60000 (83%)]\tLoss: 1.157867\n",
            "\n",
            "Test set: Average loss: 0.7577, Accuracy: 8269/10000 (82%)\n",
            "\n",
            "Train Epoch: 5 [0/60000 (0%)]\tLoss: 1.114378\n",
            "Train Epoch: 5 [10000/60000 (17%)]\tLoss: 1.046182\n",
            "Train Epoch: 5 [20000/60000 (33%)]\tLoss: 0.973768\n",
            "Train Epoch: 5 [30000/60000 (50%)]\tLoss: 0.910388\n",
            "Train Epoch: 5 [40000/60000 (67%)]\tLoss: 0.863636\n",
            "Train Epoch: 5 [50000/60000 (83%)]\tLoss: 0.843958\n",
            "\n",
            "Test set: Average loss: 0.5115, Accuracy: 8791/10000 (87%)\n",
            "\n",
            "Train Epoch: 6 [0/60000 (0%)]\tLoss: 0.796372\n",
            "Train Epoch: 6 [10000/60000 (17%)]\tLoss: 0.809377\n",
            "Train Epoch: 6 [20000/60000 (33%)]\tLoss: 0.758734\n",
            "Train Epoch: 6 [30000/60000 (50%)]\tLoss: 0.751131\n",
            "Train Epoch: 6 [40000/60000 (67%)]\tLoss: 0.697480\n",
            "Train Epoch: 6 [50000/60000 (83%)]\tLoss: 0.682581\n",
            "\n",
            "Test set: Average loss: 0.4096, Accuracy: 9012/10000 (90%)\n",
            "\n",
            "Train Epoch: 7 [0/60000 (0%)]\tLoss: 0.634730\n",
            "Train Epoch: 7 [10000/60000 (17%)]\tLoss: 0.579798\n",
            "Train Epoch: 7 [20000/60000 (33%)]\tLoss: 0.649082\n",
            "Train Epoch: 7 [30000/60000 (50%)]\tLoss: 0.669187\n",
            "Train Epoch: 7 [40000/60000 (67%)]\tLoss: 0.620290\n",
            "Train Epoch: 7 [50000/60000 (83%)]\tLoss: 0.681278\n",
            "\n",
            "Test set: Average loss: 0.3466, Accuracy: 9129/10000 (91%)\n",
            "\n",
            "Train Epoch: 8 [0/60000 (0%)]\tLoss: 0.626142\n",
            "Train Epoch: 8 [10000/60000 (17%)]\tLoss: 0.557685\n",
            "Train Epoch: 8 [20000/60000 (33%)]\tLoss: 0.567673\n",
            "Train Epoch: 8 [30000/60000 (50%)]\tLoss: 0.542058\n",
            "Train Epoch: 8 [40000/60000 (67%)]\tLoss: 0.492771\n",
            "Train Epoch: 8 [50000/60000 (83%)]\tLoss: 0.503536\n",
            "\n",
            "Test set: Average loss: 0.2989, Accuracy: 9259/10000 (92%)\n",
            "\n",
            "Train Epoch: 9 [0/60000 (0%)]\tLoss: 0.534490\n",
            "Train Epoch: 9 [10000/60000 (17%)]\tLoss: 0.525550\n",
            "Train Epoch: 9 [20000/60000 (33%)]\tLoss: 0.522225\n",
            "Train Epoch: 9 [30000/60000 (50%)]\tLoss: 0.487088\n",
            "Train Epoch: 9 [40000/60000 (67%)]\tLoss: 0.519037\n",
            "Train Epoch: 9 [50000/60000 (83%)]\tLoss: 0.523765\n",
            "\n",
            "Test set: Average loss: 0.2715, Accuracy: 9327/10000 (93%)\n",
            "\n",
            "Train Epoch: 10 [0/60000 (0%)]\tLoss: 0.518909\n",
            "Train Epoch: 10 [10000/60000 (17%)]\tLoss: 0.465700\n",
            "Train Epoch: 10 [20000/60000 (33%)]\tLoss: 0.478674\n",
            "Train Epoch: 10 [30000/60000 (50%)]\tLoss: 0.481431\n",
            "Train Epoch: 10 [40000/60000 (67%)]\tLoss: 0.489986\n",
            "Train Epoch: 10 [50000/60000 (83%)]\tLoss: 0.472173\n",
            "\n",
            "Test set: Average loss: 0.2456, Accuracy: 9382/10000 (93%)\n",
            "\n"
          ],
          "name": "stdout"
        }
      ]
    },
    {
      "cell_type": "markdown",
      "metadata": {
        "id": "6jNvS2mBzcQD",
        "colab_type": "text"
      },
      "source": [
        "###Testing Using Custom Examples"
      ]
    },
    {
      "cell_type": "code",
      "metadata": {
        "id": "7iUbW0TszgYp",
        "colab_type": "code",
        "outputId": "f9137040-5947-4eb7-e2fd-dead7ff887d3",
        "colab": {
          "base_uri": "https://localhost:8080/"
        }
      },
      "source": [
        "%matplotlib inline\n",
        "\n",
        "import matplotlib.pyplot as plt\n",
        "\n",
        "model.eval()\n",
        "example = deepcopy(data.data[25])\n",
        "\n",
        "if args['cuda']:\n",
        "    model.cuda()\n",
        "    example = example.cuda()\n",
        "\n",
        "example = Variable(example,volatile=True).float().unsqueeze(0).unsqueeze(0)\n",
        "print(model(example).data)\n",
        "\n",
        "plt.matshow(data.data[25])\n",
        "plt.colorbar()"
      ],
      "execution_count": 0,
      "outputs": [
        {
          "output_type": "stream",
          "text": [
            "tensor([[    0.0000, -1359.1697,  -482.2861,  -801.7672, -1136.7977,  -526.2972,\n",
            "          -696.3121,  -883.9150,  -743.1136,  -765.6729]], device='cuda:0')\n"
          ],
          "name": "stdout"
        },
        {
          "output_type": "stream",
          "text": [
            "/usr/local/lib/python3.6/dist-packages/ipykernel_launcher.py:12: UserWarning: volatile was removed and now has no effect. Use `with torch.no_grad():` instead.\n",
            "  if sys.path[0] == '':\n"
          ],
          "name": "stderr"
        },
        {
          "output_type": "execute_result",
          "data": {
            "text/plain": [
              "<matplotlib.colorbar.Colorbar at 0x7fd17c255710>"
            ]
          },
          "metadata": {
            "tags": []
          },
          "execution_count": 7
        },
        {
          "output_type": "display_data",
          "data": {
            "image/png": "[encoded data removed]",
            "text/plain": [
              "<Figure size 288x288 with 2 Axes>"
            ]
          },
          "metadata": {
            "tags": []
          }
        }
      ]
    },
    {
      "cell_type": "code",
      "metadata": {
        "id": "OOcYNcTT32n1",
        "colab_type": "code",
        "outputId": "8f066300-0546-4c2d-f916-8bb8cb91c1ee",
        "colab": {
          "base_uri": "https://localhost:8080/"
        }
      },
      "source": [
        "make_dot(model(example))"
      ],
      "execution_count": 0,
      "outputs": [
        {
          "output_type": "execute_result",
          "data": {
            "text/plain": [
              "<graphviz.dot.Digraph at 0x7fd17c2995f8>"
            ],
            "image/svg+xml": "<?xml version=\"1.0\" encoding=\"UTF-8\" standalone=\"no\"?>\n<!DOCTYPE svg PUBLIC \"-//W3C//DTD SVG 1.1//EN\"\n \"http://www.w3.org/Graphics/SVG/1.1/DTD/svg11.dtd\">\n<!-- Generated by graphviz version 2.40.1 (20161225.0304)\n -->\n<!-- Title: %3 Pages: 1 -->\n<svg width=\"429pt\" height=\"864pt\"\n viewBox=\"0.00 0.00 429.01 864.00\" xmlns=\"http://www.w3.org/2000/svg\" xmlns:xlink=\"http://www.w3.org/1999/xlink\">\n<g id=\"graph0\" class=\"graph\" transform=\"scale(.9954 .9954) rotate(0) translate(4 864)\">\n<title>%3</title>\n<polygon fill=\"#ffffff\" stroke=\"transparent\" points=\"-4,4 -4,-864 427,-864 427,4 -4,4\"/>\n<!-- 140537707992680 -->\n<g id=\"node1\" class=\"node\">\n<title>140537707992680</title>\n<polygon fill=\"#caff70\" stroke=\"#000000\" points=\"347,-21 222,-21 222,0 347,0 347,-21\"/>\n<text text-anchor=\"middle\" x=\"284.5\" y=\"-7.4\" font-family=\"Times,serif\" font-size=\"12.00\" fill=\"#000000\">LogSoftmaxBackward</text>\n</g>\n<!-- 140537707992792 -->\n<g id=\"node2\" class=\"node\">\n<title>140537707992792</title>\n<polygon fill=\"#d3d3d3\" stroke=\"#000000\" points=\"336.5,-78 232.5,-78 232.5,-57 336.5,-57 336.5,-78\"/>\n<text text-anchor=\"middle\" x=\"284.5\" y=\"-64.4\" font-family=\"Times,serif\" font-size=\"12.00\" fill=\"#000000\">AddmmBackward</text>\n</g>\n<!-- 140537707992792&#45;&gt;140537707992680 -->\n<g id=\"edge1\" class=\"edge\">\n<title>140537707992792&#45;&gt;140537707992680</title>\n<path fill=\"none\" stroke=\"#000000\" d=\"M284.5,-56.7787C284.5,-49.6134 284.5,-39.9517 284.5,-31.3097\"/>\n<polygon fill=\"#000000\" stroke=\"#000000\" points=\"288.0001,-31.1732 284.5,-21.1732 281.0001,-31.1732 288.0001,-31.1732\"/>\n</g>\n<!-- 140537707994976 -->\n<g id=\"node3\" class=\"node\">\n<title>140537707994976</title>\n<polygon fill=\"#add8e6\" stroke=\"#000000\" points=\"219.5,-149 165.5,-149 165.5,-114 219.5,-114 219.5,-149\"/>\n<text text-anchor=\"middle\" x=\"192.5\" y=\"-121.4\" font-family=\"Times,serif\" font-size=\"12.00\" fill=\"#000000\"> (10)</text>\n</g>\n<!-- 140537707994976&#45;&gt;140537707992792 -->\n<g id=\"edge2\" class=\"edge\">\n<title>140537707994976&#45;&gt;140537707992792</title>\n<path fill=\"none\" stroke=\"#000000\" d=\"M218.1271,-113.6724C231.5188,-104.3565 247.7974,-93.0322 260.8816,-83.9302\"/>\n<polygon fill=\"#000000\" stroke=\"#000000\" points=\"263.1445,-86.6197 269.3548,-78.0358 259.147,-80.8733 263.1445,-86.6197\"/>\n</g>\n<!-- 140537707994584 -->\n<g id=\"node4\" class=\"node\">\n<title>140537707994584</title>\n<polygon fill=\"#d3d3d3\" stroke=\"#000000\" points=\"331.5,-142 237.5,-142 237.5,-121 331.5,-121 331.5,-142\"/>\n<text text-anchor=\"middle\" x=\"284.5\" y=\"-128.4\" font-family=\"Times,serif\" font-size=\"12.00\" fill=\"#000000\">ReluBackward0</text>\n</g>\n<!-- 140537707994584&#45;&gt;140537707992792 -->\n<g id=\"edge3\" class=\"edge\">\n<title>140537707994584&#45;&gt;140537707992792</title>\n<path fill=\"none\" stroke=\"#000000\" d=\"M284.5,-120.9317C284.5,-112.0913 284.5,-99.2122 284.5,-88.3135\"/>\n<polygon fill=\"#000000\" stroke=\"#000000\" points=\"288.0001,-88.2979 284.5,-78.2979 281.0001,-88.2979 288.0001,-88.2979\"/>\n</g>\n<!-- 140537707992736 -->\n<g id=\"node5\" class=\"node\">\n<title>140537707992736</title>\n<polygon fill=\"#d3d3d3\" stroke=\"#000000\" points=\"336.5,-213 232.5,-213 232.5,-192 336.5,-192 336.5,-213\"/>\n<text text-anchor=\"middle\" x=\"284.5\" y=\"-199.4\" font-family=\"Times,serif\" font-size=\"12.00\" fill=\"#000000\">AddmmBackward</text>\n</g>\n<!-- 140537707992736&#45;&gt;140537707994584 -->\n<g id=\"edge4\" class=\"edge\">\n<title>140537707992736&#45;&gt;140537707994584</title>\n<path fill=\"none\" stroke=\"#000000\" d=\"M284.5,-191.7166C284.5,-181.3953 284.5,-165.5401 284.5,-152.6896\"/>\n<polygon fill=\"#000000\" stroke=\"#000000\" points=\"288.0001,-152.3848 284.5,-142.3849 281.0001,-152.3849 288.0001,-152.3848\"/>\n</g>\n<!-- 140537707994752 -->\n<g id=\"node6\" class=\"node\">\n<title>140537707994752</title>\n<polygon fill=\"#add8e6\" stroke=\"#000000\" points=\"220.5,-291 166.5,-291 166.5,-256 220.5,-256 220.5,-291\"/>\n<text text-anchor=\"middle\" x=\"193.5\" y=\"-263.4\" font-family=\"Times,serif\" font-size=\"12.00\" fill=\"#000000\"> (256)</text>\n</g>\n<!-- 140537707994752&#45;&gt;140537707992736 -->\n<g id=\"edge5\" class=\"edge\">\n<title>140537707994752&#45;&gt;140537707992736</title>\n<path fill=\"none\" stroke=\"#000000\" d=\"M215.9944,-255.9494C230.2906,-244.7952 248.6989,-230.4327 262.8325,-219.4054\"/>\n<polygon fill=\"#000000\" stroke=\"#000000\" points=\"265.2741,-221.9397 271.0053,-213.0288 260.9681,-216.4208 265.2741,-221.9397\"/>\n</g>\n<!-- 140537707993128 -->\n<g id=\"node7\" class=\"node\">\n<title>140537707993128</title>\n<polygon fill=\"#d3d3d3\" stroke=\"#000000\" points=\"330,-284 239,-284 239,-263 330,-263 330,-284\"/>\n<text text-anchor=\"middle\" x=\"284.5\" y=\"-270.4\" font-family=\"Times,serif\" font-size=\"12.00\" fill=\"#000000\">ViewBackward</text>\n</g>\n<!-- 140537707993128&#45;&gt;140537707992736 -->\n<g id=\"edge6\" class=\"edge\">\n<title>140537707993128&#45;&gt;140537707992736</title>\n<path fill=\"none\" stroke=\"#000000\" d=\"M284.5,-262.7166C284.5,-252.3953 284.5,-236.5401 284.5,-223.6896\"/>\n<polygon fill=\"#000000\" stroke=\"#000000\" points=\"288.0001,-223.3848 284.5,-213.3849 281.0001,-223.3849 288.0001,-223.3848\"/>\n</g>\n<!-- 140537707994416 -->\n<g id=\"node8\" class=\"node\">\n<title>140537707994416</title>\n<polygon fill=\"#d3d3d3\" stroke=\"#000000\" points=\"331.5,-355 237.5,-355 237.5,-334 331.5,-334 331.5,-355\"/>\n<text text-anchor=\"middle\" x=\"284.5\" y=\"-341.4\" font-family=\"Times,serif\" font-size=\"12.00\" fill=\"#000000\">ReluBackward0</text>\n</g>\n<!-- 140537707994416&#45;&gt;140537707993128 -->\n<g id=\"edge7\" class=\"edge\">\n<title>140537707994416&#45;&gt;140537707993128</title>\n<path fill=\"none\" stroke=\"#000000\" d=\"M284.5,-333.7166C284.5,-323.3953 284.5,-307.5401 284.5,-294.6896\"/>\n<polygon fill=\"#000000\" stroke=\"#000000\" points=\"288.0001,-294.3848 284.5,-284.3849 281.0001,-294.3849 288.0001,-294.3848\"/>\n</g>\n<!-- 140537707992848 -->\n<g id=\"node9\" class=\"node\">\n<title>140537707992848</title>\n<polygon fill=\"#d3d3d3\" stroke=\"#000000\" points=\"374.5,-419 194.5,-419 194.5,-398 374.5,-398 374.5,-419\"/>\n<text text-anchor=\"middle\" x=\"284.5\" y=\"-405.4\" font-family=\"Times,serif\" font-size=\"12.00\" fill=\"#000000\">MaxPool2DWithIndicesBackward</text>\n</g>\n<!-- 140537707992848&#45;&gt;140537707994416 -->\n<g id=\"edge8\" class=\"edge\">\n<title>140537707992848&#45;&gt;140537707994416</title>\n<path fill=\"none\" stroke=\"#000000\" d=\"M284.5,-397.9317C284.5,-389.0913 284.5,-376.2122 284.5,-365.3135\"/>\n<polygon fill=\"#000000\" stroke=\"#000000\" points=\"288.0001,-365.2979 284.5,-355.2979 281.0001,-365.2979 288.0001,-365.2979\"/>\n</g>\n<!-- 140537707991392 -->\n<g id=\"node10\" class=\"node\">\n<title>140537707991392</title>\n<polygon fill=\"#d3d3d3\" stroke=\"#000000\" points=\"363,-476 206,-476 206,-455 363,-455 363,-476\"/>\n<text text-anchor=\"middle\" x=\"284.5\" y=\"-462.4\" font-family=\"Times,serif\" font-size=\"12.00\" fill=\"#000000\">CudnnConvolutionBackward</text>\n</g>\n<!-- 140537707991392&#45;&gt;140537707992848 -->\n<g id=\"edge9\" class=\"edge\">\n<title>140537707991392&#45;&gt;140537707992848</title>\n<path fill=\"none\" stroke=\"#000000\" d=\"M284.5,-454.7787C284.5,-447.6134 284.5,-437.9517 284.5,-429.3097\"/>\n<polygon fill=\"#000000\" stroke=\"#000000\" points=\"288.0001,-429.1732 284.5,-419.1732 281.0001,-429.1732 288.0001,-429.1732\"/>\n</g>\n<!-- 140537707994696 -->\n<g id=\"node11\" class=\"node\">\n<title>140537707994696</title>\n<polygon fill=\"#d3d3d3\" stroke=\"#000000\" points=\"228.5,-540 134.5,-540 134.5,-519 228.5,-519 228.5,-540\"/>\n<text text-anchor=\"middle\" x=\"181.5\" y=\"-526.4\" font-family=\"Times,serif\" font-size=\"12.00\" fill=\"#000000\">ReluBackward0</text>\n</g>\n<!-- 140537707994696&#45;&gt;140537707991392 -->\n<g id=\"edge10\" class=\"edge\">\n<title>140537707994696&#45;&gt;140537707991392</title>\n<path fill=\"none\" stroke=\"#000000\" d=\"M198.5084,-518.9317C214.9089,-508.7411 239.9464,-493.1838 258.7827,-481.4797\"/>\n<polygon fill=\"#000000\" stroke=\"#000000\" points=\"260.8197,-484.3346 267.4664,-476.084 257.1253,-478.3889 260.8197,-484.3346\"/>\n</g>\n<!-- 140537707994808 -->\n<g id=\"node12\" class=\"node\">\n<title>140537707994808</title>\n<polygon fill=\"#d3d3d3\" stroke=\"#000000\" points=\"271.5,-604 91.5,-604 91.5,-583 271.5,-583 271.5,-604\"/>\n<text text-anchor=\"middle\" x=\"181.5\" y=\"-590.4\" font-family=\"Times,serif\" font-size=\"12.00\" fill=\"#000000\">MaxPool2DWithIndicesBackward</text>\n</g>\n<!-- 140537707994808&#45;&gt;140537707994696 -->\n<g id=\"edge11\" class=\"edge\">\n<title>140537707994808&#45;&gt;140537707994696</title>\n<path fill=\"none\" stroke=\"#000000\" d=\"M181.5,-582.9317C181.5,-574.0913 181.5,-561.2122 181.5,-550.3135\"/>\n<polygon fill=\"#000000\" stroke=\"#000000\" points=\"185.0001,-550.2979 181.5,-540.2979 178.0001,-550.2979 185.0001,-550.2979\"/>\n</g>\n<!-- 140537707581392 -->\n<g id=\"node13\" class=\"node\">\n<title>140537707581392</title>\n<polygon fill=\"#d3d3d3\" stroke=\"#000000\" points=\"260,-661 103,-661 103,-640 260,-640 260,-661\"/>\n<text text-anchor=\"middle\" x=\"181.5\" y=\"-647.4\" font-family=\"Times,serif\" font-size=\"12.00\" fill=\"#000000\">CudnnConvolutionBackward</text>\n</g>\n<!-- 140537707581392&#45;&gt;140537707994808 -->\n<g id=\"edge12\" class=\"edge\">\n<title>140537707581392&#45;&gt;140537707994808</title>\n<path fill=\"none\" stroke=\"#000000\" d=\"M181.5,-639.7787C181.5,-632.6134 181.5,-622.9517 181.5,-614.3097\"/>\n<polygon fill=\"#000000\" stroke=\"#000000\" points=\"185.0001,-614.1732 181.5,-604.1732 178.0001,-614.1732 185.0001,-614.1732\"/>\n</g>\n<!-- 140537707713424 -->\n<g id=\"node14\" class=\"node\">\n<title>140537707713424</title>\n<polygon fill=\"#d3d3d3\" stroke=\"#000000\" points=\"125.5,-725 31.5,-725 31.5,-704 125.5,-704 125.5,-725\"/>\n<text text-anchor=\"middle\" x=\"78.5\" y=\"-711.4\" font-family=\"Times,serif\" font-size=\"12.00\" fill=\"#000000\">ReluBackward0</text>\n</g>\n<!-- 140537707713424&#45;&gt;140537707581392 -->\n<g id=\"edge13\" class=\"edge\">\n<title>140537707713424&#45;&gt;140537707581392</title>\n<path fill=\"none\" stroke=\"#000000\" d=\"M95.5084,-703.9317C111.9089,-693.7411 136.9464,-678.1838 155.7827,-666.4797\"/>\n<polygon fill=\"#000000\" stroke=\"#000000\" points=\"157.8197,-669.3346 164.4664,-661.084 154.1253,-663.3889 157.8197,-669.3346\"/>\n</g>\n<!-- 140537707713032 -->\n<g id=\"node15\" class=\"node\">\n<title>140537707713032</title>\n<polygon fill=\"#d3d3d3\" stroke=\"#000000\" points=\"157,-789 0,-789 0,-768 157,-768 157,-789\"/>\n<text text-anchor=\"middle\" x=\"78.5\" y=\"-775.4\" font-family=\"Times,serif\" font-size=\"12.00\" fill=\"#000000\">CudnnConvolutionBackward</text>\n</g>\n<!-- 140537707713032&#45;&gt;140537707713424 -->\n<g id=\"edge14\" class=\"edge\">\n<title>140537707713032&#45;&gt;140537707713424</title>\n<path fill=\"none\" stroke=\"#000000\" d=\"M78.5,-767.9317C78.5,-759.0913 78.5,-746.2122 78.5,-735.3135\"/>\n<polygon fill=\"#000000\" stroke=\"#000000\" points=\"82.0001,-735.2979 78.5,-725.2979 75.0001,-735.2979 82.0001,-735.2979\"/>\n</g>\n<!-- 140537707712808 -->\n<g id=\"node16\" class=\"node\">\n<title>140537707712808</title>\n<polygon fill=\"#add8e6\" stroke=\"#000000\" points=\"75,-860 0,-860 0,-825 75,-825 75,-860\"/>\n<text text-anchor=\"middle\" x=\"37.5\" y=\"-832.4\" font-family=\"Times,serif\" font-size=\"12.00\" fill=\"#000000\"> (16, 1, 5, 5)</text>\n</g>\n<!-- 140537707712808&#45;&gt;140537707713032 -->\n<g id=\"edge15\" class=\"edge\">\n<title>140537707712808&#45;&gt;140537707713032</title>\n<path fill=\"none\" stroke=\"#000000\" d=\"M48.9208,-824.6724C54.2802,-816.3066 60.6771,-806.3212 66.1488,-797.7799\"/>\n<polygon fill=\"#000000\" stroke=\"#000000\" points=\"69.1831,-799.5318 71.6303,-789.2234 63.2889,-795.7558 69.1831,-799.5318\"/>\n</g>\n<!-- 140537707713480 -->\n<g id=\"node17\" class=\"node\">\n<title>140537707713480</title>\n<polygon fill=\"#add8e6\" stroke=\"#000000\" points=\"147.5,-860 93.5,-860 93.5,-825 147.5,-825 147.5,-860\"/>\n<text text-anchor=\"middle\" x=\"120.5\" y=\"-832.4\" font-family=\"Times,serif\" font-size=\"12.00\" fill=\"#000000\"> (16)</text>\n</g>\n<!-- 140537707713480&#45;&gt;140537707713032 -->\n<g id=\"edge16\" class=\"edge\">\n<title>140537707713480&#45;&gt;140537707713032</title>\n<path fill=\"none\" stroke=\"#000000\" d=\"M108.8007,-824.6724C103.3105,-816.3066 96.7576,-806.3212 91.1524,-797.7799\"/>\n<polygon fill=\"#000000\" stroke=\"#000000\" points=\"93.95,-795.6636 85.5373,-789.2234 88.0977,-799.5042 93.95,-795.6636\"/>\n</g>\n<!-- 140537707712696 -->\n<g id=\"node18\" class=\"node\">\n<title>140537707712696</title>\n<polygon fill=\"#add8e6\" stroke=\"#000000\" points=\"219,-732 144,-732 144,-697 219,-697 219,-732\"/>\n<text text-anchor=\"middle\" x=\"181.5\" y=\"-704.4\" font-family=\"Times,serif\" font-size=\"12.00\" fill=\"#000000\"> (32, 4, 5, 5)</text>\n</g>\n<!-- 140537707712696&#45;&gt;140537707581392 -->\n<g id=\"edge17\" class=\"edge\">\n<title>140537707712696&#45;&gt;140537707581392</title>\n<path fill=\"none\" stroke=\"#000000\" d=\"M181.5,-696.6724C181.5,-688.8405 181.5,-679.5893 181.5,-671.4323\"/>\n<polygon fill=\"#000000\" stroke=\"#000000\" points=\"185.0001,-671.2234 181.5,-661.2234 178.0001,-671.2235 185.0001,-671.2234\"/>\n</g>\n<!-- 140537707712864 -->\n<g id=\"node19\" class=\"node\">\n<title>140537707712864</title>\n<polygon fill=\"#add8e6\" stroke=\"#000000\" points=\"291.5,-732 237.5,-732 237.5,-697 291.5,-697 291.5,-732\"/>\n<text text-anchor=\"middle\" x=\"264.5\" y=\"-704.4\" font-family=\"Times,serif\" font-size=\"12.00\" fill=\"#000000\"> (32)</text>\n</g>\n<!-- 140537707712864&#45;&gt;140537707581392 -->\n<g id=\"edge18\" class=\"edge\">\n<title>140537707712864&#45;&gt;140537707581392</title>\n<path fill=\"none\" stroke=\"#000000\" d=\"M241.3799,-696.6724C229.4916,-687.5056 215.0816,-676.3942 203.3769,-667.3689\"/>\n<polygon fill=\"#000000\" stroke=\"#000000\" points=\"205.4633,-664.5581 195.4069,-661.2234 201.1889,-670.1015 205.4633,-664.5581\"/>\n</g>\n<!-- 140537707995032 -->\n<g id=\"node20\" class=\"node\">\n<title>140537707995032</title>\n<polygon fill=\"#add8e6\" stroke=\"#000000\" points=\"322,-547 247,-547 247,-512 322,-512 322,-547\"/>\n<text text-anchor=\"middle\" x=\"284.5\" y=\"-519.4\" font-family=\"Times,serif\" font-size=\"12.00\" fill=\"#000000\"> (64, 8, 5, 5)</text>\n</g>\n<!-- 140537707995032&#45;&gt;140537707991392 -->\n<g id=\"edge19\" class=\"edge\">\n<title>140537707995032&#45;&gt;140537707991392</title>\n<path fill=\"none\" stroke=\"#000000\" d=\"M284.5,-511.6724C284.5,-503.8405 284.5,-494.5893 284.5,-486.4323\"/>\n<polygon fill=\"#000000\" stroke=\"#000000\" points=\"288.0001,-486.2234 284.5,-476.2234 281.0001,-486.2235 288.0001,-486.2234\"/>\n</g>\n<!-- 140537707995088 -->\n<g id=\"node21\" class=\"node\">\n<title>140537707995088</title>\n<polygon fill=\"#add8e6\" stroke=\"#000000\" points=\"394.5,-547 340.5,-547 340.5,-512 394.5,-512 394.5,-547\"/>\n<text text-anchor=\"middle\" x=\"367.5\" y=\"-519.4\" font-family=\"Times,serif\" font-size=\"12.00\" fill=\"#000000\"> (64)</text>\n</g>\n<!-- 140537707995088&#45;&gt;140537707991392 -->\n<g id=\"edge20\" class=\"edge\">\n<title>140537707995088&#45;&gt;140537707991392</title>\n<path fill=\"none\" stroke=\"#000000\" d=\"M344.3799,-511.6724C332.4916,-502.5056 318.0816,-491.3942 306.3769,-482.3689\"/>\n<polygon fill=\"#000000\" stroke=\"#000000\" points=\"308.4633,-479.5581 298.4069,-476.2234 304.1889,-485.1015 308.4633,-479.5581\"/>\n</g>\n<!-- 140537707993240 -->\n<g id=\"node22\" class=\"node\">\n<title>140537707993240</title>\n<polygon fill=\"#d3d3d3\" stroke=\"#000000\" points=\"421,-284 348,-284 348,-263 421,-263 421,-284\"/>\n<text text-anchor=\"middle\" x=\"384.5\" y=\"-270.4\" font-family=\"Times,serif\" font-size=\"12.00\" fill=\"#000000\">TBackward</text>\n</g>\n<!-- 140537707993240&#45;&gt;140537707992736 -->\n<g id=\"edge21\" class=\"edge\">\n<title>140537707993240&#45;&gt;140537707992736</title>\n<path fill=\"none\" stroke=\"#000000\" d=\"M369.3122,-262.7166C352.992,-251.1293 326.8486,-232.5675 307.898,-219.1126\"/>\n<polygon fill=\"#000000\" stroke=\"#000000\" points=\"309.6832,-216.0876 299.5031,-213.1522 305.6307,-221.7953 309.6832,-216.0876\"/>\n</g>\n<!-- 140537707994360 -->\n<g id=\"node23\" class=\"node\">\n<title>140537707994360</title>\n<polygon fill=\"#add8e6\" stroke=\"#000000\" points=\"419,-362 350,-362 350,-327 419,-327 419,-362\"/>\n<text text-anchor=\"middle\" x=\"384.5\" y=\"-334.4\" font-family=\"Times,serif\" font-size=\"12.00\" fill=\"#000000\"> (256, 576)</text>\n</g>\n<!-- 140537707994360&#45;&gt;140537707993240 -->\n<g id=\"edge22\" class=\"edge\">\n<title>140537707994360&#45;&gt;140537707993240</title>\n<path fill=\"none\" stroke=\"#000000\" d=\"M384.5,-326.9494C384.5,-317.058 384.5,-304.6435 384.5,-294.2693\"/>\n<polygon fill=\"#000000\" stroke=\"#000000\" points=\"388.0001,-294.0288 384.5,-284.0288 381.0001,-294.0289 388.0001,-294.0288\"/>\n</g>\n<!-- 140537707993576 -->\n<g id=\"node24\" class=\"node\">\n<title>140537707993576</title>\n<polygon fill=\"#d3d3d3\" stroke=\"#000000\" points=\"423,-142 350,-142 350,-121 423,-121 423,-142\"/>\n<text text-anchor=\"middle\" x=\"386.5\" y=\"-128.4\" font-family=\"Times,serif\" font-size=\"12.00\" fill=\"#000000\">TBackward</text>\n</g>\n<!-- 140537707993576&#45;&gt;140537707992792 -->\n<g id=\"edge23\" class=\"edge\">\n<title>140537707993576&#45;&gt;140537707992792</title>\n<path fill=\"none\" stroke=\"#000000\" d=\"M369.6568,-120.9317C353.4155,-110.7411 328.621,-95.1838 309.9676,-83.4797\"/>\n<polygon fill=\"#000000\" stroke=\"#000000\" points=\"311.6991,-80.4342 301.3682,-78.084 307.9787,-86.3637 311.6991,-80.4342\"/>\n</g>\n<!-- 140537707993856 -->\n<g id=\"node25\" class=\"node\">\n<title>140537707993856</title>\n<polygon fill=\"#add8e6\" stroke=\"#000000\" points=\"418,-220 355,-220 355,-185 418,-185 418,-220\"/>\n<text text-anchor=\"middle\" x=\"386.5\" y=\"-192.4\" font-family=\"Times,serif\" font-size=\"12.00\" fill=\"#000000\"> (10, 256)</text>\n</g>\n<!-- 140537707993856&#45;&gt;140537707993576 -->\n<g id=\"edge24\" class=\"edge\">\n<title>140537707993856&#45;&gt;140537707993576</title>\n<path fill=\"none\" stroke=\"#000000\" d=\"M386.5,-184.9494C386.5,-175.058 386.5,-162.6435 386.5,-152.2693\"/>\n<polygon fill=\"#000000\" stroke=\"#000000\" points=\"390.0001,-152.0288 386.5,-142.0288 383.0001,-152.0289 390.0001,-152.0288\"/>\n</g>\n</g>\n</svg>\n"
          },
          "metadata": {
            "tags": []
          },
          "execution_count": 8
        }
      ]
    },
    {
      "cell_type": "markdown",
      "metadata": {
        "id": "Hr58e6sD4OuL",
        "colab_type": "text"
      },
      "source": [
        "##Visualizing all layers"
      ]
    },
    {
      "cell_type": "markdown",
      "metadata": {
        "id": "dXPFilDV495B",
        "colab_type": "text"
      },
      "source": [
        "###Extracting Layers"
      ]
    },
    {
      "cell_type": "code",
      "metadata": {
        "id": "PC0rwtNT47ok",
        "colab_type": "code",
        "colab": {}
      },
      "source": [
        "all_parameters=np.array(deepcopy(list(model.parameters())))"
      ],
      "execution_count": 0,
      "outputs": []
    },
    {
      "cell_type": "code",
      "metadata": {
        "id": "MrJwsgf_5DSb",
        "colab_type": "code",
        "outputId": "7296f34c-654b-4d20-8351-71ca98a6408e",
        "colab": {
          "base_uri": "https://localhost:8080/",
          "height": 199
        }
      },
      "source": [
        "# Printing Paramter Names\n",
        "for i in model.named_parameters():\n",
        "  print(i[0])"
      ],
      "execution_count": 0,
      "outputs": [
        {
          "output_type": "stream",
          "text": [
            "conv1.weight\n",
            "conv1.bias\n",
            "conv2.weight\n",
            "conv2.bias\n",
            "conv3.weight\n",
            "conv3.bias\n",
            "fc1.weight\n",
            "fc1.bias\n",
            "fc2.weight\n",
            "fc2.bias\n"
          ],
          "name": "stdout"
        }
      ]
    },
    {
      "cell_type": "code",
      "metadata": {
        "id": "bRv2F5Kp5Nzn",
        "colab_type": "code",
        "colab": {}
      },
      "source": [
        "for i in range(len(all_parameters)):\n",
        "  all_parameters[i] = all_parameters[i].cpu().detach().numpy()"
      ],
      "execution_count": 0,
      "outputs": []
    },
    {
      "cell_type": "code",
      "metadata": {
        "id": "Yx_oxCFZ5U7F",
        "colab_type": "code",
        "outputId": "f24fe1b0-9e9b-4a0a-a4f9-b4aabcd67b2b",
        "colab": {
          "base_uri": "https://localhost:8080/",
          "height": 1000
        }
      },
      "source": [
        "layer = 0\n",
        "print(all_parameters[layer].shape,all_parameters[layer].size)\n",
        "all_parameters[layer]"
      ],
      "execution_count": 0,
      "outputs": [
        {
          "output_type": "stream",
          "text": [
            "(16, 1, 5, 5) 400\n"
          ],
          "name": "stdout"
        },
        {
          "output_type": "execute_result",
          "data": {
            "text/plain": [
              "array([[[[-2.14212865e-01, -1.87882140e-01, -1.40519291e-02,\n",
              "          -3.67063284e-02, -4.69096676e-02],\n",
              "         [-2.03082129e-01, -3.48809361e-02,  9.62384194e-02,\n",
              "           1.17893852e-01,  1.03401877e-01],\n",
              "         [-1.44074231e-01, -8.91651809e-02,  1.19560711e-01,\n",
              "           7.55216107e-02,  1.41721338e-01],\n",
              "         [ 1.42361656e-01,  1.25321493e-01, -7.27576166e-02,\n",
              "           2.14470327e-01,  1.12762377e-01],\n",
              "         [-1.41099721e-01,  1.92377910e-01, -4.13115956e-02,\n",
              "          -6.26242235e-02, -7.55806454e-03]]],\n",
              "\n",
              "\n",
              "       [[[-4.80192155e-03,  9.51321870e-02,  2.19093382e-01,\n",
              "           2.24121794e-01,  1.67219609e-01],\n",
              "         [ 1.23762779e-01,  1.50269508e-01,  1.58798441e-01,\n",
              "           3.58631946e-02,  8.26426893e-02],\n",
              "         [ 2.22898141e-01, -5.46119511e-02,  2.77312975e-02,\n",
              "          -1.42151549e-01,  7.82742128e-02],\n",
              "         [ 2.35132892e-02,  1.53005153e-01,  2.04747114e-02,\n",
              "          -1.74282357e-01,  1.44214079e-01],\n",
              "         [-2.47692447e-02, -3.58538777e-02, -7.34098852e-02,\n",
              "           5.92034049e-02,  8.84230211e-02]]],\n",
              "\n",
              "\n",
              "       [[[ 4.45225909e-02,  3.44058834e-02,  2.98267063e-02,\n",
              "           2.24954441e-01,  1.16746619e-01],\n",
              "         [-2.51505431e-02,  1.88728973e-01,  6.03223406e-02,\n",
              "           2.02620998e-01,  1.33088425e-01],\n",
              "         [ 1.51216194e-01, -9.59109440e-02,  2.19170749e-01,\n",
              "           2.66154557e-02,  1.39942423e-01],\n",
              "         [ 1.25298336e-01, -1.01998277e-01, -5.84961288e-02,\n",
              "          -9.40980613e-02, -2.07784310e-01],\n",
              "         [ 3.16904560e-02, -1.67682096e-01, -2.08750874e-01,\n",
              "           4.95901220e-02, -2.00937539e-01]]],\n",
              "\n",
              "\n",
              "       [[[-1.07260704e-01, -1.77555054e-01, -1.24704204e-01,\n",
              "           1.57842203e-03,  4.32534143e-02],\n",
              "         [-1.07292317e-01, -1.55570418e-01, -1.44659027e-01,\n",
              "           1.66911140e-01,  2.02939197e-01],\n",
              "         [-1.02549930e-04,  1.25762060e-01,  2.49703214e-01,\n",
              "           2.10653931e-01, -3.76394168e-02],\n",
              "         [-3.17537189e-02,  8.10551047e-02,  1.33419335e-01,\n",
              "           2.10850671e-01,  8.19768086e-02],\n",
              "         [ 1.48001476e-03,  2.26180717e-01,  2.02634409e-01,\n",
              "          -4.90852818e-02,  1.07320435e-01]]],\n",
              "\n",
              "\n",
              "       [[[-1.58427894e-01, -8.63265023e-02, -4.26946245e-02,\n",
              "           1.70651630e-01, -1.29134029e-01],\n",
              "         [ 2.26313937e-02, -1.64617836e-01, -3.72446105e-02,\n",
              "          -1.89779148e-01, -1.81952521e-01],\n",
              "         [-9.84460786e-02, -1.78577185e-01,  1.14485718e-01,\n",
              "          -4.08558398e-02, -1.75340652e-01],\n",
              "         [-1.74578354e-01, -3.69131528e-02, -1.16207242e-01,\n",
              "          -9.62754190e-02,  9.90097076e-02],\n",
              "         [-1.38541246e-02, -1.16338551e-01, -6.47933483e-02,\n",
              "           5.11294901e-02,  4.53278609e-02]]],\n",
              "\n",
              "\n",
              "       [[[ 2.46075839e-01,  2.12369546e-01,  1.27510622e-01,\n",
              "           1.23748742e-01, -2.37534180e-01],\n",
              "         [-1.05081521e-01,  1.23957783e-01,  1.72290921e-01,\n",
              "           1.17000543e-01, -2.31168941e-01],\n",
              "         [ 1.60030574e-01, -1.23427816e-01, -1.62525237e-01,\n",
              "          -2.24100664e-01, -1.31452739e-01],\n",
              "         [ 1.95314944e-01, -5.15413471e-02, -1.46767542e-01,\n",
              "          -1.69269562e-01, -1.15366504e-01],\n",
              "         [-1.09921634e-01,  7.72852972e-02, -7.12641552e-02,\n",
              "          -1.12977214e-01, -1.65548429e-01]]],\n",
              "\n",
              "\n",
              "       [[[ 2.85262704e-01,  1.66728407e-01, -6.78931549e-02,\n",
              "          -1.96343884e-01,  4.15973961e-02],\n",
              "         [ 1.82846859e-01,  2.38600686e-01,  3.01387273e-02,\n",
              "          -1.87773243e-01, -1.49635300e-01],\n",
              "         [ 2.73933470e-01,  5.31865507e-02, -1.39612496e-01,\n",
              "          -2.17102081e-01,  1.11066312e-01],\n",
              "         [ 2.57921696e-01, -5.39552085e-02, -1.47146389e-01,\n",
              "           7.76698664e-02,  6.67141005e-02],\n",
              "         [-1.06645815e-01, -2.50858497e-02, -1.79847330e-01,\n",
              "          -2.27696300e-02, -1.74352393e-01]]],\n",
              "\n",
              "\n",
              "       [[[-2.15252146e-01, -1.98134094e-01, -1.32250965e-01,\n",
              "          -3.61766922e-03,  2.50564009e-01],\n",
              "         [ 1.33544922e-01, -1.69015318e-01, -1.63253695e-01,\n",
              "           2.20616668e-01, -9.24829543e-02],\n",
              "         [ 1.63800269e-01, -1.09454840e-01,  8.85575041e-02,\n",
              "           2.08968401e-01,  1.38330743e-01],\n",
              "         [ 1.41773894e-01,  1.48658603e-01,  1.96164846e-01,\n",
              "           1.46527633e-01,  1.66158661e-01],\n",
              "         [ 3.10338661e-02, -1.64152294e-01,  2.09752932e-01,\n",
              "           1.22648917e-01, -4.80037816e-02]]],\n",
              "\n",
              "\n",
              "       [[[ 1.90415993e-01,  4.65392545e-02,  2.33139277e-01,\n",
              "           9.10300985e-02,  8.76069292e-02],\n",
              "         [-8.55433848e-03,  2.49391899e-01,  3.07688981e-01,\n",
              "           3.16572823e-02, -9.66557786e-02],\n",
              "         [ 6.11364171e-02,  1.21064350e-01,  6.38579652e-02,\n",
              "           1.43540651e-01,  1.47306412e-01],\n",
              "         [-1.67572349e-02,  2.23655701e-01,  1.17858119e-01,\n",
              "           4.33306582e-02,  1.02859676e-01],\n",
              "         [-1.36016071e-01,  1.27947852e-01,  3.02260816e-01,\n",
              "           2.37627298e-01, -6.00672513e-02]]],\n",
              "\n",
              "\n",
              "       [[[-1.32312000e-01,  7.48896003e-02,  8.01117122e-02,\n",
              "          -1.78637773e-01,  6.87932819e-02],\n",
              "         [ 1.24962427e-01,  2.08474025e-01, -3.75006571e-02,\n",
              "          -1.34080663e-01,  1.75971806e-01],\n",
              "         [ 2.85022613e-02,  8.23892951e-02,  1.69096757e-02,\n",
              "           1.19525827e-01, -9.00414363e-02],\n",
              "         [-1.20529540e-01, -1.03437893e-01,  3.33143026e-02,\n",
              "          -6.45333678e-02,  1.20985776e-01],\n",
              "         [-1.02415435e-01,  1.51904806e-01,  1.93221405e-01,\n",
              "          -1.02789784e-02, -1.46968856e-01]]],\n",
              "\n",
              "\n",
              "       [[[ 1.18086629e-01, -2.07665209e-02, -1.94234595e-01,\n",
              "           2.95508141e-03, -1.03131622e-01],\n",
              "         [ 5.23356125e-02, -3.01318299e-02, -1.78178117e-01,\n",
              "          -5.56938015e-02,  2.89963931e-03],\n",
              "         [ 4.50259335e-02, -9.53542814e-02, -5.56939058e-02,\n",
              "           1.37603790e-01, -1.76843837e-01],\n",
              "         [-1.56399652e-01, -7.46127889e-02,  1.14377514e-01,\n",
              "          -8.39513242e-02, -4.55404669e-02],\n",
              "         [-4.13219407e-02, -2.82415692e-02, -2.75733415e-02,\n",
              "          -1.02079868e-01,  1.25924870e-01]]],\n",
              "\n",
              "\n",
              "       [[[-1.08208787e-02, -3.57459001e-02,  1.32813090e-02,\n",
              "          -7.32818395e-02,  2.04939783e-01],\n",
              "         [-1.77180782e-01, -1.86633810e-01,  1.53452247e-01,\n",
              "          -1.11623704e-02,  4.88528702e-03],\n",
              "         [ 1.13596812e-01, -1.97625697e-01,  1.91867173e-01,\n",
              "           7.64720663e-02,  1.99583974e-02],\n",
              "         [-5.66890985e-02, -3.72615047e-02,  1.65383458e-01,\n",
              "           2.29048386e-01, -2.25341064e-03],\n",
              "         [-1.99875474e-01, -5.12559637e-02,  2.12823659e-01,\n",
              "           2.12403134e-01, -8.94042626e-02]]],\n",
              "\n",
              "\n",
              "       [[[-1.07780874e-01, -1.59345433e-01,  1.78342998e-01,\n",
              "          -1.34763360e-01, -1.34254377e-02],\n",
              "         [ 1.64347693e-01, -3.94119062e-02,  1.76211521e-01,\n",
              "          -1.14721678e-01,  1.20407775e-01],\n",
              "         [-9.35295746e-02, -1.27241043e-02, -1.61349058e-01,\n",
              "          -6.03775680e-03, -1.63003936e-01],\n",
              "         [ 1.37067303e-01, -1.98873699e-01,  3.13923508e-02,\n",
              "           1.55422822e-01,  2.21952032e-02],\n",
              "         [-1.63493648e-01, -1.16031528e-01,  1.78659856e-01,\n",
              "           6.61863061e-03, -1.67499706e-01]]],\n",
              "\n",
              "\n",
              "       [[[ 1.11253805e-01, -1.06864847e-01,  2.66713481e-02,\n",
              "           6.85933158e-02,  1.08257592e-01],\n",
              "         [-4.50445861e-02, -2.66003031e-02, -7.75634870e-02,\n",
              "           1.62851587e-01,  6.07848726e-02],\n",
              "         [-1.60841215e-02,  1.33135021e-01, -2.05713287e-01,\n",
              "          -7.86133632e-02, -1.16597936e-01],\n",
              "         [ 2.10915692e-02,  5.47351204e-02, -8.18429366e-02,\n",
              "           6.37865812e-02, -1.19514957e-01],\n",
              "         [-1.90042898e-01,  3.65746319e-02, -4.91198851e-03,\n",
              "           1.00706778e-01, -1.11297548e-01]]],\n",
              "\n",
              "\n",
              "       [[[-1.17648698e-01,  1.25058383e-01, -2.02028994e-02,\n",
              "           2.01040685e-01,  7.87216201e-02],\n",
              "         [-2.22390786e-01, -1.67348996e-01,  1.61142856e-01,\n",
              "           1.17200807e-01,  1.11605316e-01],\n",
              "         [ 9.73237827e-02, -3.48934415e-03, -5.83505817e-02,\n",
              "           1.92240179e-02,  1.56514272e-01],\n",
              "         [-1.87580884e-01,  6.03687167e-02, -1.89034883e-02,\n",
              "           1.36911660e-01,  1.10976361e-01],\n",
              "         [-1.46499366e-01,  1.86243162e-01,  9.54688042e-02,\n",
              "           1.69426396e-01, -3.26049095e-03]]],\n",
              "\n",
              "\n",
              "       [[[ 9.83408764e-02,  2.87383109e-01,  5.69700003e-02,\n",
              "           7.83259124e-02, -9.19540785e-03],\n",
              "         [ 2.27886453e-01,  2.28249162e-01,  2.61546314e-01,\n",
              "           2.59933144e-01,  5.74052427e-03],\n",
              "         [-1.63521469e-01,  1.23495154e-01,  2.35017478e-01,\n",
              "           1.14121318e-01,  2.89061159e-01],\n",
              "         [-2.75093615e-01, -2.01096945e-02,  4.62842435e-02,\n",
              "           1.44970387e-01,  1.29671633e-01],\n",
              "         [-4.44313973e-01, -1.77194789e-01, -2.15636089e-01,\n",
              "          -2.12525561e-01,  3.44383195e-02]]]], dtype=float32)"
            ]
          },
          "metadata": {
            "tags": []
          },
          "execution_count": 12
        }
      ]
    },
    {
      "cell_type": "markdown",
      "metadata": {
        "id": "tQo-Ud3J5t46",
        "colab_type": "text"
      },
      "source": [
        "###Plotting the weights"
      ]
    },
    {
      "cell_type": "code",
      "metadata": {
        "id": "r0SG7HUm5z9n",
        "colab_type": "code",
        "outputId": "6213962d-3c22-4ec2-a642-851d02a17d62",
        "colab": {
          "base_uri": "https://localhost:8080/",
          "height": 892
        }
      },
      "source": [
        "import matplotlib.pyplot as plt\n",
        "\n",
        "layer =int(input('Enter the Layer: '))*2\n",
        "fil = int(input('Enter the filter number: '))\n",
        "\n",
        "print(all_parameters[layer][fil][0])\n",
        "\n",
        "length = int(all_parameters[layer][fil][0].size**0.5)\n",
        "plt.matshow(all_parameters[layer][fil][0].reshape(length,length))\n",
        "plt.colorbar()\n",
        "plt.show()\n",
        "\n",
        "binwidth = 0.01\n",
        "\n",
        "plt.hist(all_parameters[layer][fil][0])\n",
        "plt.show()\n",
        "\n",
        "plt.hist(all_parameters[layer+1])\n",
        "plt.show()\n"
      ],
      "execution_count": 0,
      "outputs": [
        {
          "output_type": "stream",
          "text": [
            "Enter the Layer: 1\n",
            "Enter the filter number: 1\n",
            "[[ 0.08596534 -0.07424985  0.04018736  0.02432946 -0.02979402]\n",
            " [-0.03057344 -0.07387438  0.07688809  0.09478265 -0.09599309]\n",
            " [ 0.03270142 -0.05165147 -0.0104804   0.05097883  0.04563018]\n",
            " [-0.00391414  0.04063414  0.02786794 -0.01702285  0.00100057]\n",
            " [ 0.0219871  -0.08892018  0.05067436 -0.03919886 -0.08180952]]\n"
          ],
          "name": "stdout"
        },
        {
          "output_type": "display_data",
          "data": {
            "image/png": "[encoded data removed]",
            "text/plain": [
              "<Figure size 288x288 with 2 Axes>"
            ]
          },
          "metadata": {
            "tags": []
          }
        },
        {
          "output_type": "display_data",
          "data": {
            "image/png": "[encoded data removed]",
            "text/plain": [
              "<Figure size 432x288 with 1 Axes>"
            ]
          },
          "metadata": {
            "tags": []
          }
        },
        {
          "output_type": "display_data",
          "data": {
            "image/png": "[encoded data removed]",
            "text/plain": [
              "<Figure size 432x288 with 1 Axes>"
            ]
          },
          "metadata": {
            "tags": []
          }
        }
      ]
    },
    {
      "cell_type": "markdown",
      "metadata": {
        "id": "wPZBXWh_8JtE",
        "colab_type": "text"
      },
      "source": [
        "###Visualizing Values as they pass through the model"
      ]
    },
    {
      "cell_type": "code",
      "metadata": {
        "id": "PDCf5ett8Nvf",
        "colab_type": "code",
        "colab": {}
      },
      "source": [
        "# Loading the test data\n",
        "data = datasets.MNIST('../data', train=False, download=True,\n",
        "                   transform=transforms.Compose([\n",
        "                       transforms.ToTensor(),\n",
        "                       transforms.Normalize((0.1307,), (0.3081,))\n",
        "                   ]))"
      ],
      "execution_count": 0,
      "outputs": []
    },
    {
      "cell_type": "code",
      "metadata": {
        "id": "UulVBUTF8XSo",
        "colab_type": "code",
        "outputId": "1dbd65bc-3999-4d4c-d29d-a433340eb7be",
        "colab": {
          "base_uri": "https://localhost:8080/",
          "height": 375
        }
      },
      "source": [
        "# Evaluating an Example\n",
        "e = 1\n",
        "model.train()\n",
        "example = deepcopy(data.data[e]).unsqueeze(0).unsqueeze(0)\n",
        "\n",
        "if args['cuda']:\n",
        "    model.cuda()\n",
        "    example = example.cuda()\n",
        "\n",
        "example = Variable(example,volatile=True).float()\n",
        "print(model(example).data)\n",
        "\n",
        "plt.matshow(data.data[e])\n",
        "plt.colorbar()"
      ],
      "execution_count": 0,
      "outputs": [
        {
          "output_type": "stream",
          "text": [
            "tensor([[ -75.1333, -353.2830,  -14.9619,  -85.3990, -936.0524, -361.3423,\n",
            "            0.0000, -884.4292, -330.8306, -839.4867]], device='cuda:0')\n"
          ],
          "name": "stdout"
        },
        {
          "output_type": "stream",
          "text": [
            "/usr/local/lib/python3.6/dist-packages/ipykernel_launcher.py:9: UserWarning: volatile was removed and now has no effect. Use `with torch.no_grad():` instead.\n",
            "  if __name__ == '__main__':\n"
          ],
          "name": "stderr"
        },
        {
          "output_type": "execute_result",
          "data": {
            "text/plain": [
              "<matplotlib.colorbar.Colorbar at 0x7fd175fbfe80>"
            ]
          },
          "metadata": {
            "tags": []
          },
          "execution_count": 14
        },
        {
          "output_type": "display_data",
          "data": {
            "image/png": "[encoded data removed]",
            "text/plain": [
              "<Figure size 288x288 with 2 Axes>"
            ]
          },
          "metadata": {
            "tags": []
          }
        }
      ]
    },
    {
      "cell_type": "code",
      "metadata": {
        "id": "uzrsbOU3BgJe",
        "colab_type": "code",
        "outputId": "84e63cf6-98d1-4b20-c39e-a296ea9e66a4",
        "colab": {
          "base_uri": "https://localhost:8080/",
          "height": 1000
        }
      },
      "source": [
        "import numpy as np\n",
        "img = plt.matshow(model.x.cpu().detach().numpy()[0][0])\n",
        "plt.colorbar()\n",
        "plt.show()\n",
        "\n",
        "plt.matshow(model.after_conv1.cpu().detach().numpy()[0][0])\n",
        "print(model.after_conv1.cpu().detach().numpy()[0][2].shape)\n",
        "plt.colorbar()\n",
        "plt.show()\n",
        "\n",
        "plt.matshow(model.after_relu1.cpu().detach().numpy()[0][0])\n",
        "print(model.after_relu1.cpu().detach().numpy()[0][0].shape)\n",
        "plt.colorbar()\n",
        "plt.show()\n",
        "\n",
        "plt.matshow(model.after_conv2.cpu().detach().numpy()[0][0])\n",
        "print(model.after_conv2.cpu().detach().numpy()[0][0].shape)\n",
        "plt.colorbar()\n",
        "plt.show()\n",
        "\n",
        "plt.matshow(model.after_maxpool2.cpu().detach().numpy()[0][0])\n",
        "print(model.after_maxpool2.cpu().detach().numpy()[0][0].shape)\n",
        "plt.colorbar()\n",
        "plt.show()\n",
        "\n",
        "plt.matshow(model.after_relu2.cpu().detach().numpy()[0][0])\n",
        "print(model.after_relu2.cpu().detach().numpy()[0][0].shape)\n",
        "plt.colorbar()\n",
        "plt.show()\n",
        "\n",
        "\n",
        "plt.matshow(model.after_dropout2.cpu().detach().numpy()[0][0])\n",
        "print(model.after_dropout2.cpu().detach().numpy()[0][0].shape)\n",
        "plt.colorbar()\n",
        "plt.show()\n",
        "\n",
        "plt.matshow(model.after_conv3.cpu().detach().numpy()[0][0])\n",
        "print(model.after_conv3.cpu().detach().numpy()[0][0].shape)\n",
        "plt.colorbar()\n",
        "plt.show()\n",
        "\n",
        "plt.matshow(model.after_maxpool3.cpu().detach().numpy()[0][0])\n",
        "print(model.after_maxpool3.cpu().detach().numpy()[0][0].shape)\n",
        "plt.colorbar()\n",
        "plt.show()\n",
        "\n",
        "plt.matshow(model.after_relu3.cpu().detach().numpy()[0][0])\n",
        "print(model.after_relu3.cpu().detach().numpy()[0][0].shape)\n",
        "plt.colorbar()\n",
        "plt.show()\n",
        "\n",
        "plt.matshow(model.after_dropout3.cpu().detach().numpy()[0][0])\n",
        "print(model.after_dropout3.cpu().detach().numpy()[0][0].shape)\n",
        "plt.colorbar()\n",
        "plt.show()\n",
        "\n",
        "x = model.after_reshape.cpu().detach().numpy().reshape(64,9)\n",
        "plt.matshow(x)\n",
        "print(x.shape)\n",
        "plt.colorbar()\n",
        "plt.show()\n",
        "\n",
        "x = model.after_fc4.cpu().detach().numpy().reshape(16,16)\n",
        "plt.matshow(x)\n",
        "print(x.shape)\n",
        "plt.colorbar()\n",
        "plt.show()\n",
        "\n",
        "x = model.after_relu4.cpu().detach().numpy().reshape(16,16)\n",
        "plt.matshow(x)\n",
        "print(x.shape)\n",
        "plt.colorbar()\n",
        "plt.show()\n",
        "\n",
        "x = model.after_dropout4.cpu().detach().numpy().reshape(16,16)\n",
        "plt.matshow(x)\n",
        "print(x.shape)\n",
        "plt.colorbar()\n",
        "plt.show()\n",
        "\n",
        "x = model.after_fc5.cpu().detach().numpy().reshape(5,2)\n",
        "plt.matshow(x)\n",
        "print(x.shape)\n",
        "plt.colorbar()\n",
        "plt.show()\n",
        "\n",
        "x = F.log_softmax(model.after_fc5, dim=1).cpu().detach().numpy().reshape(5,2)\n",
        "plt.matshow(x)\n",
        "print(x.shape)\n",
        "plt.colorbar()\n",
        "plt.show()\n"
      ],
      "execution_count": 0,
      "outputs": [
        {
          "output_type": "display_data",
          "data": {
            "image/png": "[encoded data removed]",
            "text/plain": [
              "<Figure size 288x288 with 2 Axes>"
            ]
          },
          "metadata": {
            "tags": []
          }
        },
        {
          "output_type": "stream",
          "text": [
            "(24, 24)\n"
          ],
          "name": "stdout"
        },
        {
          "output_type": "display_data",
          "data": {
            "image/png": "[encoded data removed]",
            "text/plain": [
              "<Figure size 288x288 with 2 Axes>"
            ]
          },
          "metadata": {
            "tags": []
          }
        },
        {
          "output_type": "stream",
          "text": [
            "(24, 24)\n"
          ],
          "name": "stdout"
        },
        {
          "output_type": "display_data",
          "data": {
            "image/png": "[encoded data removed]",
            "text/plain": [
              "<Figure size 288x288 with 2 Axes>"
            ]
          },
          "metadata": {
            "tags": []
          }
        },
        {
          "output_type": "stream",
          "text": [
            "(20, 20)\n"
          ],
          "name": "stdout"
        },
        {
          "output_type": "display_data",
          "data": {
            "image/png": "[encoded data removed]",
            "text/plain": [
              "<Figure size 288x288 with 2 Axes>"
            ]
          },
          "metadata": {
            "tags": []
          }
        },
        {
          "output_type": "stream",
          "text": [
            "(10, 10)\n"
          ],
          "name": "stdout"
        },
        {
          "output_type": "display_data",
          "data": {
            "image/png": "[encoded data removed]",
            "text/plain": [
              "<Figure size 288x288 with 2 Axes>"
            ]
          },
          "metadata": {
            "tags": []
          }
        },
        {
          "output_type": "stream",
          "text": [
            "(10, 10)\n"
          ],
          "name": "stdout"
        },
        {
          "output_type": "display_data",
          "data": {
            "image/png": "[encoded data removed]",
            "text/plain": [
              "<Figure size 288x288 with 2 Axes>"
            ]
          },
          "metadata": {
            "tags": []
          }
        },
        {
          "output_type": "stream",
          "text": [
            "(10, 10)\n"
          ],
          "name": "stdout"
        },
        {
          "output_type": "display_data",
          "data": {
            "image/png": "[encoded data removed]",
            "text/plain": [
              "<Figure size 288x288 with 2 Axes>"
            ]
          },
          "metadata": {
            "tags": []
          }
        },
        {
          "output_type": "stream",
          "text": [
            "(6, 6)\n"
          ],
          "name": "stdout"
        },
        {
          "output_type": "display_data",
          "data": {
            "image/png": "[encoded data removed]",
            "text/plain": [
              "<Figure size 288x288 with 2 Axes>"
            ]
          },
          "metadata": {
            "tags": []
          }
        },
        {
          "output_type": "stream",
          "text": [
            "(3, 3)\n"
          ],
          "name": "stdout"
        },
        {
          "output_type": "display_data",
          "data": {
            "image/png": "[encoded data removed]",
            "text/plain": [
              "<Figure size 288x288 with 2 Axes>"
            ]
          },
          "metadata": {
            "tags": []
          }
        },
        {
          "output_type": "stream",
          "text": [
            "(3, 3)\n"
          ],
          "name": "stdout"
        },
        {
          "output_type": "display_data",
          "data": {
            "image/png": "[encoded data removed]",
            "text/plain": [
              "<Figure size 288x288 with 2 Axes>"
            ]
          },
          "metadata": {
            "tags": []
          }
        },
        {
          "output_type": "stream",
          "text": [
            "(3, 3)\n"
          ],
          "name": "stdout"
        },
        {
          "output_type": "display_data",
          "data": {
            "image/png": "[encoded data removed]",
            "text/plain": [
              "<Figure size 288x288 with 2 Axes>"
            ]
          },
          "metadata": {
            "tags": []
          }
        },
        {
          "output_type": "stream",
          "text": [
            "(64, 9)\n"
          ],
          "name": "stdout"
        },
        {
          "output_type": "display_data",
          "data": {
            "image/png": "[encoded data removed]",
            "text/plain": [
              "<Figure size 288x1152 with 2 Axes>"
            ]
          },
          "metadata": {
            "tags": []
          }
        },
        {
          "output_type": "stream",
          "text": [
            "(16, 16)\n"
          ],
          "name": "stdout"
        },
        {
          "output_type": "display_data",
          "data": {
            "image/png": "[encoded data removed]",
            "text/plain": [
              "<Figure size 288x288 with 2 Axes>"
            ]
          },
          "metadata": {
            "tags": []
          }
        },
        {
          "output_type": "stream",
          "text": [
            "(16, 16)\n"
          ],
          "name": "stdout"
        },
        {
          "output_type": "display_data",
          "data": {
            "image/png": "[encoded data removed]",
            "text/plain": [
              "<Figure size 288x288 with 2 Axes>"
            ]
          },
          "metadata": {
            "tags": []
          }
        },
        {
          "output_type": "stream",
          "text": [
            "(16, 16)\n"
          ],
          "name": "stdout"
        },
        {
          "output_type": "display_data",
          "data": {
            "image/png": "[encoded data removed]",
            "text/plain": [
              "<Figure size 288x288 with 2 Axes>"
            ]
          },
          "metadata": {
            "tags": []
          }
        },
        {
          "output_type": "stream",
          "text": [
            "(5, 2)\n"
          ],
          "name": "stdout"
        },
        {
          "output_type": "display_data",
          "data": {
            "image/png": "[encoded data removed]",
            "text/plain": [
              "<Figure size 288x720 with 2 Axes>"
            ]
          },
          "metadata": {
            "tags": []
          }
        },
        {
          "output_type": "stream",
          "text": [
            "(5, 2)\n"
          ],
          "name": "stdout"
        },
        {
          "output_type": "display_data",
          "data": {
            "image/png": "[encoded data removed]",
            "text/plain": [
              "<Figure size 288x720 with 2 Axes>"
            ]
          },
          "metadata": {
            "tags": []
          }
        }
      ]
    },
    {
      "cell_type": "markdown",
      "metadata": {
        "id": "5Ao-yC5p7wmo",
        "colab_type": "text"
      },
      "source": [
        "## To visualize the CNN on MNIST even better, check out this link:\n",
        "\n",
        "http://scs.ryerson.ca/~aharley/vis/conv/flat.html"
      ]
    },
    {
      "cell_type": "markdown",
      "metadata": {
        "id": "J9mJDK1xIj5E",
        "colab_type": "text"
      },
      "source": [
        "##Attributing Result to neurons and Data\n",
        "print(model.after_conv3.cpu().detach().numpy()[0][0].shape)\n",
        "plt.colorbar()\n",
        "plt.show()\n"
      ]
    },
    {
      "cell_type": "code",
      "metadata": {
        "id": "buoYew7IIsIU",
        "colab_type": "code",
        "colab": {}
      },
      "source": [
        "# Loading the test data\n",
        "data = datasets.MNIST('../data', train=False, download=True,\n",
        "                   transform=transforms.Compose([\n",
        "                       transforms.ToTensor(),\n",
        "                       transforms.Normalize((0.1307,), (0.3081,))\n",
        "                   ]))"
      ],
      "execution_count": 0,
      "outputs": []
    },
    {
      "cell_type": "code",
      "metadata": {
        "id": "7pEkEH4fIuVk",
        "colab_type": "code",
        "outputId": "bb1db090-9ddb-475e-85df-c1fa811bd01e",
        "colab": {
          "base_uri": "https://localhost:8080/",
          "height": 300
        }
      },
      "source": [
        "# Evaluating an Example\n",
        "e = 10\n",
        "model.eval()\n",
        "example = []\n",
        "example = deepcopy(data.data[e]).unsqueeze(0).unsqueeze(0)\n",
        "\n",
        "if args['cuda']:\n",
        "    model.cuda()\n",
        "    example = example.cuda()\n",
        "\n",
        "example = Variable(example).float()\n",
        "example.requires_grad=True\n",
        "print(model(example).data)\n",
        "\n",
        "plt.matshow(data.data[e])\n",
        "plt.colorbar()\n",
        "\n",
        "model.after_fc5[0][8].backward()"
      ],
      "execution_count": 0,
      "outputs": [
        {
          "output_type": "stream",
          "text": [
            "tensor([[    0.0000, -1260.5658,  -454.7112,  -665.7850, -1311.0803,  -568.8503,\n",
            "          -750.2554, -1009.5161,  -765.2604,  -955.6873]], device='cuda:0')\n"
          ],
          "name": "stdout"
        },
        {
          "output_type": "display_data",
          "data": {
            "image/png": "[encoded data removed]",
            "text/plain": [
              "<Figure size 288x288 with 2 Axes>"
            ]
          },
          "metadata": {
            "tags": []
          }
        }
      ]
    },
    {
      "cell_type": "code",
      "metadata": {
        "id": "L4pPa_e9J-p2",
        "colab_type": "code",
        "outputId": "12b4d23b-1f7b-4223-9874-4ed70340e4c9",
        "colab": {
          "base_uri": "https://localhost:8080/",
          "height": 1000
        }
      },
      "source": [
        "make_dot(model.after_fc5[0][4])"
      ],
      "execution_count": 0,
      "outputs": [
        {
          "output_type": "execute_result",
          "data": {
            "text/plain": [
              "<graphviz.dot.Digraph at 0x7fe360eb06d8>"
            ],
            "image/svg+xml": "<?xml version=\"1.0\" encoding=\"UTF-8\" standalone=\"no\"?>\n<!DOCTYPE svg PUBLIC \"-//W3C//DTD SVG 1.1//EN\"\n \"http://www.w3.org/Graphics/SVG/1.1/DTD/svg11.dtd\">\n<!-- Generated by graphviz version 2.40.1 (20161225.0304)\n -->\n<!-- Title: %3 Pages: 1 -->\n<svg width=\"457pt\" height=\"864pt\"\n viewBox=\"0.00 0.00 456.75 864.00\" xmlns=\"http://www.w3.org/2000/svg\" xmlns:xlink=\"http://www.w3.org/1999/xlink\">\n<g id=\"graph0\" class=\"graph\" transform=\"scale(.9341 .9341) rotate(0) translate(4 921)\">\n<title>%3</title>\n<polygon fill=\"#ffffff\" stroke=\"transparent\" points=\"-4,4 -4,-921 485,-921 485,4 -4,4\"/>\n<!-- 140614560319696 -->\n<g id=\"node1\" class=\"node\">\n<title>140614560319696</title>\n<polygon fill=\"#caff70\" stroke=\"#000000\" points=\"389.5,-21 295.5,-21 295.5,0 389.5,0 389.5,-21\"/>\n<text text-anchor=\"middle\" x=\"342.5\" y=\"-7.4\" font-family=\"Times,serif\" font-size=\"12.00\" fill=\"#000000\">SelectBackward</text>\n</g>\n<!-- 140614560320200 -->\n<g id=\"node2\" class=\"node\">\n<title>140614560320200</title>\n<polygon fill=\"#d3d3d3\" stroke=\"#000000\" points=\"389.5,-78 295.5,-78 295.5,-57 389.5,-57 389.5,-78\"/>\n<text text-anchor=\"middle\" x=\"342.5\" y=\"-64.4\" font-family=\"Times,serif\" font-size=\"12.00\" fill=\"#000000\">SelectBackward</text>\n</g>\n<!-- 140614560320200&#45;&gt;140614560319696 -->\n<g id=\"edge1\" class=\"edge\">\n<title>140614560320200&#45;&gt;140614560319696</title>\n<path fill=\"none\" stroke=\"#000000\" d=\"M342.5,-56.7787C342.5,-49.6134 342.5,-39.9517 342.5,-31.3097\"/>\n<polygon fill=\"#000000\" stroke=\"#000000\" points=\"346.0001,-31.1732 342.5,-21.1732 339.0001,-31.1732 346.0001,-31.1732\"/>\n</g>\n<!-- 140614560319808 -->\n<g id=\"node3\" class=\"node\">\n<title>140614560319808</title>\n<polygon fill=\"#d3d3d3\" stroke=\"#000000\" points=\"394.5,-135 290.5,-135 290.5,-114 394.5,-114 394.5,-135\"/>\n<text text-anchor=\"middle\" x=\"342.5\" y=\"-121.4\" font-family=\"Times,serif\" font-size=\"12.00\" fill=\"#000000\">AddmmBackward</text>\n</g>\n<!-- 140614560319808&#45;&gt;140614560320200 -->\n<g id=\"edge2\" class=\"edge\">\n<title>140614560319808&#45;&gt;140614560320200</title>\n<path fill=\"none\" stroke=\"#000000\" d=\"M342.5,-113.7787C342.5,-106.6134 342.5,-96.9517 342.5,-88.3097\"/>\n<polygon fill=\"#000000\" stroke=\"#000000\" points=\"346.0001,-88.1732 342.5,-78.1732 339.0001,-88.1732 346.0001,-88.1732\"/>\n</g>\n<!-- 140614560318744 -->\n<g id=\"node4\" class=\"node\">\n<title>140614560318744</title>\n<polygon fill=\"#add8e6\" stroke=\"#000000\" points=\"277.5,-206 223.5,-206 223.5,-171 277.5,-171 277.5,-206\"/>\n<text text-anchor=\"middle\" x=\"250.5\" y=\"-178.4\" font-family=\"Times,serif\" font-size=\"12.00\" fill=\"#000000\"> (10)</text>\n</g>\n<!-- 140614560318744&#45;&gt;140614560319808 -->\n<g id=\"edge3\" class=\"edge\">\n<title>140614560318744&#45;&gt;140614560319808</title>\n<path fill=\"none\" stroke=\"#000000\" d=\"M276.1271,-170.6724C289.5188,-161.3565 305.7974,-150.0322 318.8816,-140.9302\"/>\n<polygon fill=\"#000000\" stroke=\"#000000\" points=\"321.1445,-143.6197 327.3548,-135.0358 317.147,-137.8733 321.1445,-143.6197\"/>\n</g>\n<!-- 140614560320032 -->\n<g id=\"node5\" class=\"node\">\n<title>140614560320032</title>\n<polygon fill=\"#d3d3d3\" stroke=\"#000000\" points=\"389.5,-199 295.5,-199 295.5,-178 389.5,-178 389.5,-199\"/>\n<text text-anchor=\"middle\" x=\"342.5\" y=\"-185.4\" font-family=\"Times,serif\" font-size=\"12.00\" fill=\"#000000\">ReluBackward0</text>\n</g>\n<!-- 140614560320032&#45;&gt;140614560319808 -->\n<g id=\"edge4\" class=\"edge\">\n<title>140614560320032&#45;&gt;140614560319808</title>\n<path fill=\"none\" stroke=\"#000000\" d=\"M342.5,-177.9317C342.5,-169.0913 342.5,-156.2122 342.5,-145.3135\"/>\n<polygon fill=\"#000000\" stroke=\"#000000\" points=\"346.0001,-145.2979 342.5,-135.2979 339.0001,-145.2979 346.0001,-145.2979\"/>\n</g>\n<!-- 140614559822792 -->\n<g id=\"node6\" class=\"node\">\n<title>140614559822792</title>\n<polygon fill=\"#d3d3d3\" stroke=\"#000000\" points=\"394.5,-270 290.5,-270 290.5,-249 394.5,-249 394.5,-270\"/>\n<text text-anchor=\"middle\" x=\"342.5\" y=\"-256.4\" font-family=\"Times,serif\" font-size=\"12.00\" fill=\"#000000\">AddmmBackward</text>\n</g>\n<!-- 140614559822792&#45;&gt;140614560320032 -->\n<g id=\"edge5\" class=\"edge\">\n<title>140614559822792&#45;&gt;140614560320032</title>\n<path fill=\"none\" stroke=\"#000000\" d=\"M342.5,-248.7166C342.5,-238.3953 342.5,-222.5401 342.5,-209.6896\"/>\n<polygon fill=\"#000000\" stroke=\"#000000\" points=\"346.0001,-209.3848 342.5,-199.3849 339.0001,-209.3849 346.0001,-209.3848\"/>\n</g>\n<!-- 140614559823744 -->\n<g id=\"node7\" class=\"node\">\n<title>140614559823744</title>\n<polygon fill=\"#add8e6\" stroke=\"#000000\" points=\"278.5,-348 224.5,-348 224.5,-313 278.5,-313 278.5,-348\"/>\n<text text-anchor=\"middle\" x=\"251.5\" y=\"-320.4\" font-family=\"Times,serif\" font-size=\"12.00\" fill=\"#000000\"> (256)</text>\n</g>\n<!-- 140614559823744&#45;&gt;140614559822792 -->\n<g id=\"edge6\" class=\"edge\">\n<title>140614559823744&#45;&gt;140614559822792</title>\n<path fill=\"none\" stroke=\"#000000\" d=\"M273.9944,-312.9494C288.2906,-301.7952 306.6989,-287.4327 320.8325,-276.4054\"/>\n<polygon fill=\"#000000\" stroke=\"#000000\" points=\"323.2741,-278.9397 329.0053,-270.0288 318.9681,-273.4208 323.2741,-278.9397\"/>\n</g>\n<!-- 140614559825312 -->\n<g id=\"node8\" class=\"node\">\n<title>140614559825312</title>\n<polygon fill=\"#d3d3d3\" stroke=\"#000000\" points=\"388,-341 297,-341 297,-320 388,-320 388,-341\"/>\n<text text-anchor=\"middle\" x=\"342.5\" y=\"-327.4\" font-family=\"Times,serif\" font-size=\"12.00\" fill=\"#000000\">ViewBackward</text>\n</g>\n<!-- 140614559825312&#45;&gt;140614559822792 -->\n<g id=\"edge7\" class=\"edge\">\n<title>140614559825312&#45;&gt;140614559822792</title>\n<path fill=\"none\" stroke=\"#000000\" d=\"M342.5,-319.7166C342.5,-309.3953 342.5,-293.5401 342.5,-280.6896\"/>\n<polygon fill=\"#000000\" stroke=\"#000000\" points=\"346.0001,-280.3848 342.5,-270.3849 339.0001,-280.3849 346.0001,-280.3848\"/>\n</g>\n<!-- 140614556677792 -->\n<g id=\"node9\" class=\"node\">\n<title>140614556677792</title>\n<polygon fill=\"#d3d3d3\" stroke=\"#000000\" points=\"389.5,-412 295.5,-412 295.5,-391 389.5,-391 389.5,-412\"/>\n<text text-anchor=\"middle\" x=\"342.5\" y=\"-398.4\" font-family=\"Times,serif\" font-size=\"12.00\" fill=\"#000000\">ReluBackward0</text>\n</g>\n<!-- 140614556677792&#45;&gt;140614559825312 -->\n<g id=\"edge8\" class=\"edge\">\n<title>140614556677792&#45;&gt;140614559825312</title>\n<path fill=\"none\" stroke=\"#000000\" d=\"M342.5,-390.7166C342.5,-380.3953 342.5,-364.5401 342.5,-351.6896\"/>\n<polygon fill=\"#000000\" stroke=\"#000000\" points=\"346.0001,-351.3848 342.5,-341.3849 339.0001,-351.3849 346.0001,-351.3848\"/>\n</g>\n<!-- 140614555760400 -->\n<g id=\"node10\" class=\"node\">\n<title>140614555760400</title>\n<polygon fill=\"#d3d3d3\" stroke=\"#000000\" points=\"432.5,-476 252.5,-476 252.5,-455 432.5,-455 432.5,-476\"/>\n<text text-anchor=\"middle\" x=\"342.5\" y=\"-462.4\" font-family=\"Times,serif\" font-size=\"12.00\" fill=\"#000000\">MaxPool2DWithIndicesBackward</text>\n</g>\n<!-- 140614555760400&#45;&gt;140614556677792 -->\n<g id=\"edge9\" class=\"edge\">\n<title>140614555760400&#45;&gt;140614556677792</title>\n<path fill=\"none\" stroke=\"#000000\" d=\"M342.5,-454.9317C342.5,-446.0913 342.5,-433.2122 342.5,-422.3135\"/>\n<polygon fill=\"#000000\" stroke=\"#000000\" points=\"346.0001,-422.2979 342.5,-412.2979 339.0001,-422.2979 346.0001,-422.2979\"/>\n</g>\n<!-- 140614555759784 -->\n<g id=\"node11\" class=\"node\">\n<title>140614555759784</title>\n<polygon fill=\"#d3d3d3\" stroke=\"#000000\" points=\"421,-533 264,-533 264,-512 421,-512 421,-533\"/>\n<text text-anchor=\"middle\" x=\"342.5\" y=\"-519.4\" font-family=\"Times,serif\" font-size=\"12.00\" fill=\"#000000\">CudnnConvolutionBackward</text>\n</g>\n<!-- 140614555759784&#45;&gt;140614555760400 -->\n<g id=\"edge10\" class=\"edge\">\n<title>140614555759784&#45;&gt;140614555760400</title>\n<path fill=\"none\" stroke=\"#000000\" d=\"M342.5,-511.7787C342.5,-504.6134 342.5,-494.9517 342.5,-486.3097\"/>\n<polygon fill=\"#000000\" stroke=\"#000000\" points=\"346.0001,-486.1732 342.5,-476.1732 339.0001,-486.1732 346.0001,-486.1732\"/>\n</g>\n<!-- 140614560053064 -->\n<g id=\"node12\" class=\"node\">\n<title>140614560053064</title>\n<polygon fill=\"#d3d3d3\" stroke=\"#000000\" points=\"286.5,-597 192.5,-597 192.5,-576 286.5,-576 286.5,-597\"/>\n<text text-anchor=\"middle\" x=\"239.5\" y=\"-583.4\" font-family=\"Times,serif\" font-size=\"12.00\" fill=\"#000000\">ReluBackward0</text>\n</g>\n<!-- 140614560053064&#45;&gt;140614555759784 -->\n<g id=\"edge11\" class=\"edge\">\n<title>140614560053064&#45;&gt;140614555759784</title>\n<path fill=\"none\" stroke=\"#000000\" d=\"M256.5084,-575.9317C272.9089,-565.7411 297.9464,-550.1838 316.7827,-538.4797\"/>\n<polygon fill=\"#000000\" stroke=\"#000000\" points=\"318.8197,-541.3346 325.4664,-533.084 315.1253,-535.3889 318.8197,-541.3346\"/>\n</g>\n<!-- 140614551732576 -->\n<g id=\"node13\" class=\"node\">\n<title>140614551732576</title>\n<polygon fill=\"#d3d3d3\" stroke=\"#000000\" points=\"329.5,-661 149.5,-661 149.5,-640 329.5,-640 329.5,-661\"/>\n<text text-anchor=\"middle\" x=\"239.5\" y=\"-647.4\" font-family=\"Times,serif\" font-size=\"12.00\" fill=\"#000000\">MaxPool2DWithIndicesBackward</text>\n</g>\n<!-- 140614551732576&#45;&gt;140614560053064 -->\n<g id=\"edge12\" class=\"edge\">\n<title>140614551732576&#45;&gt;140614560053064</title>\n<path fill=\"none\" stroke=\"#000000\" d=\"M239.5,-639.9317C239.5,-631.0913 239.5,-618.2122 239.5,-607.3135\"/>\n<polygon fill=\"#000000\" stroke=\"#000000\" points=\"243.0001,-607.2979 239.5,-597.2979 236.0001,-607.2979 243.0001,-607.2979\"/>\n</g>\n<!-- 140614551734984 -->\n<g id=\"node14\" class=\"node\">\n<title>140614551734984</title>\n<polygon fill=\"#d3d3d3\" stroke=\"#000000\" points=\"318,-718 161,-718 161,-697 318,-697 318,-718\"/>\n<text text-anchor=\"middle\" x=\"239.5\" y=\"-704.4\" font-family=\"Times,serif\" font-size=\"12.00\" fill=\"#000000\">CudnnConvolutionBackward</text>\n</g>\n<!-- 140614551734984&#45;&gt;140614551732576 -->\n<g id=\"edge13\" class=\"edge\">\n<title>140614551734984&#45;&gt;140614551732576</title>\n<path fill=\"none\" stroke=\"#000000\" d=\"M239.5,-696.7787C239.5,-689.6134 239.5,-679.9517 239.5,-671.3097\"/>\n<polygon fill=\"#000000\" stroke=\"#000000\" points=\"243.0001,-671.1732 239.5,-661.1732 236.0001,-671.1732 243.0001,-671.1732\"/>\n</g>\n<!-- 140614551734760 -->\n<g id=\"node15\" class=\"node\">\n<title>140614551734760</title>\n<polygon fill=\"#d3d3d3\" stroke=\"#000000\" points=\"183.5,-782 89.5,-782 89.5,-761 183.5,-761 183.5,-782\"/>\n<text text-anchor=\"middle\" x=\"136.5\" y=\"-768.4\" font-family=\"Times,serif\" font-size=\"12.00\" fill=\"#000000\">ReluBackward0</text>\n</g>\n<!-- 140614551734760&#45;&gt;140614551734984 -->\n<g id=\"edge14\" class=\"edge\">\n<title>140614551734760&#45;&gt;140614551734984</title>\n<path fill=\"none\" stroke=\"#000000\" d=\"M153.5084,-760.9317C169.9089,-750.7411 194.9464,-735.1838 213.7827,-723.4797\"/>\n<polygon fill=\"#000000\" stroke=\"#000000\" points=\"215.8197,-726.3346 222.4664,-718.084 212.1253,-720.3889 215.8197,-726.3346\"/>\n</g>\n<!-- 140614551735152 -->\n<g id=\"node16\" class=\"node\">\n<title>140614551735152</title>\n<polygon fill=\"#d3d3d3\" stroke=\"#000000\" points=\"215,-846 58,-846 58,-825 215,-825 215,-846\"/>\n<text text-anchor=\"middle\" x=\"136.5\" y=\"-832.4\" font-family=\"Times,serif\" font-size=\"12.00\" fill=\"#000000\">CudnnConvolutionBackward</text>\n</g>\n<!-- 140614551735152&#45;&gt;140614551734760 -->\n<g id=\"edge15\" class=\"edge\">\n<title>140614551735152&#45;&gt;140614551734760</title>\n<path fill=\"none\" stroke=\"#000000\" d=\"M136.5,-824.9317C136.5,-816.0913 136.5,-803.2122 136.5,-792.3135\"/>\n<polygon fill=\"#000000\" stroke=\"#000000\" points=\"140.0001,-792.2979 136.5,-782.2979 133.0001,-792.2979 140.0001,-792.2979\"/>\n</g>\n<!-- 140614556737608 -->\n<g id=\"node17\" class=\"node\">\n<title>140614556737608</title>\n<polygon fill=\"#add8e6\" stroke=\"#000000\" points=\"81,-917 0,-917 0,-882 81,-882 81,-917\"/>\n<text text-anchor=\"middle\" x=\"40.5\" y=\"-889.4\" font-family=\"Times,serif\" font-size=\"12.00\" fill=\"#000000\"> (1, 1, 28, 28)</text>\n</g>\n<!-- 140614556737608&#45;&gt;140614551735152 -->\n<g id=\"edge16\" class=\"edge\">\n<title>140614556737608&#45;&gt;140614551735152</title>\n<path fill=\"none\" stroke=\"#000000\" d=\"M66.9865,-881.8423C81.0997,-872.4335 98.3415,-860.939 112.1226,-851.7516\"/>\n<polygon fill=\"#000000\" stroke=\"#000000\" points=\"114.2323,-854.5516 120.6114,-846.0924 110.3494,-848.7273 114.2323,-854.5516\"/>\n</g>\n<!-- 140614556737664 -->\n<g id=\"node18\" class=\"node\">\n<title>140614556737664</title>\n<polygon fill=\"#add8e6\" stroke=\"#000000\" points=\"174,-917 99,-917 99,-882 174,-882 174,-917\"/>\n<text text-anchor=\"middle\" x=\"136.5\" y=\"-889.4\" font-family=\"Times,serif\" font-size=\"12.00\" fill=\"#000000\"> (16, 1, 5, 5)</text>\n</g>\n<!-- 140614556737664&#45;&gt;140614551735152 -->\n<g id=\"edge17\" class=\"edge\">\n<title>140614556737664&#45;&gt;140614551735152</title>\n<path fill=\"none\" stroke=\"#000000\" d=\"M136.5,-881.6724C136.5,-873.8405 136.5,-864.5893 136.5,-856.4323\"/>\n<polygon fill=\"#000000\" stroke=\"#000000\" points=\"140.0001,-856.2234 136.5,-846.2234 133.0001,-856.2235 140.0001,-856.2234\"/>\n</g>\n<!-- 140614556737720 -->\n<g id=\"node19\" class=\"node\">\n<title>140614556737720</title>\n<polygon fill=\"#add8e6\" stroke=\"#000000\" points=\"246.5,-917 192.5,-917 192.5,-882 246.5,-882 246.5,-917\"/>\n<text text-anchor=\"middle\" x=\"219.5\" y=\"-889.4\" font-family=\"Times,serif\" font-size=\"12.00\" fill=\"#000000\"> (16)</text>\n</g>\n<!-- 140614556737720&#45;&gt;140614551735152 -->\n<g id=\"edge18\" class=\"edge\">\n<title>140614556737720&#45;&gt;140614551735152</title>\n<path fill=\"none\" stroke=\"#000000\" d=\"M196.3799,-881.6724C184.4916,-872.5056 170.0816,-861.3942 158.3769,-852.3689\"/>\n<polygon fill=\"#000000\" stroke=\"#000000\" points=\"160.4633,-849.5581 150.4069,-846.2234 156.1889,-855.1015 160.4633,-849.5581\"/>\n</g>\n<!-- 140614551734032 -->\n<g id=\"node20\" class=\"node\">\n<title>140614551734032</title>\n<polygon fill=\"#add8e6\" stroke=\"#000000\" points=\"277,-789 202,-789 202,-754 277,-754 277,-789\"/>\n<text text-anchor=\"middle\" x=\"239.5\" y=\"-761.4\" font-family=\"Times,serif\" font-size=\"12.00\" fill=\"#000000\"> (32, 4, 5, 5)</text>\n</g>\n<!-- 140614551734032&#45;&gt;140614551734984 -->\n<g id=\"edge19\" class=\"edge\">\n<title>140614551734032&#45;&gt;140614551734984</title>\n<path fill=\"none\" stroke=\"#000000\" d=\"M239.5,-753.6724C239.5,-745.8405 239.5,-736.5893 239.5,-728.4323\"/>\n<polygon fill=\"#000000\" stroke=\"#000000\" points=\"243.0001,-728.2234 239.5,-718.2234 236.0001,-728.2235 243.0001,-728.2234\"/>\n</g>\n<!-- 140614551732800 -->\n<g id=\"node21\" class=\"node\">\n<title>140614551732800</title>\n<polygon fill=\"#add8e6\" stroke=\"#000000\" points=\"349.5,-789 295.5,-789 295.5,-754 349.5,-754 349.5,-789\"/>\n<text text-anchor=\"middle\" x=\"322.5\" y=\"-761.4\" font-family=\"Times,serif\" font-size=\"12.00\" fill=\"#000000\"> (32)</text>\n</g>\n<!-- 140614551732800&#45;&gt;140614551734984 -->\n<g id=\"edge20\" class=\"edge\">\n<title>140614551732800&#45;&gt;140614551734984</title>\n<path fill=\"none\" stroke=\"#000000\" d=\"M299.3799,-753.6724C287.4916,-744.5056 273.0816,-733.3942 261.3769,-724.3689\"/>\n<polygon fill=\"#000000\" stroke=\"#000000\" points=\"263.4633,-721.5581 253.4069,-718.2234 259.1889,-727.1015 263.4633,-721.5581\"/>\n</g>\n<!-- 140614560053120 -->\n<g id=\"node22\" class=\"node\">\n<title>140614560053120</title>\n<polygon fill=\"#add8e6\" stroke=\"#000000\" points=\"380,-604 305,-604 305,-569 380,-569 380,-604\"/>\n<text text-anchor=\"middle\" x=\"342.5\" y=\"-576.4\" font-family=\"Times,serif\" font-size=\"12.00\" fill=\"#000000\"> (64, 8, 5, 5)</text>\n</g>\n<!-- 140614560053120&#45;&gt;140614555759784 -->\n<g id=\"edge21\" class=\"edge\">\n<title>140614560053120&#45;&gt;140614555759784</title>\n<path fill=\"none\" stroke=\"#000000\" d=\"M342.5,-568.6724C342.5,-560.8405 342.5,-551.5893 342.5,-543.4323\"/>\n<polygon fill=\"#000000\" stroke=\"#000000\" points=\"346.0001,-543.2234 342.5,-533.2234 339.0001,-543.2235 346.0001,-543.2234\"/>\n</g>\n<!-- 140614551735376 -->\n<g id=\"node23\" class=\"node\">\n<title>140614551735376</title>\n<polygon fill=\"#add8e6\" stroke=\"#000000\" points=\"452.5,-604 398.5,-604 398.5,-569 452.5,-569 452.5,-604\"/>\n<text text-anchor=\"middle\" x=\"425.5\" y=\"-576.4\" font-family=\"Times,serif\" font-size=\"12.00\" fill=\"#000000\"> (64)</text>\n</g>\n<!-- 140614551735376&#45;&gt;140614555759784 -->\n<g id=\"edge22\" class=\"edge\">\n<title>140614551735376&#45;&gt;140614555759784</title>\n<path fill=\"none\" stroke=\"#000000\" d=\"M402.3799,-568.6724C390.4916,-559.5056 376.0816,-548.3942 364.3769,-539.3689\"/>\n<polygon fill=\"#000000\" stroke=\"#000000\" points=\"366.4633,-536.5581 356.4069,-533.2234 362.1889,-542.1015 366.4633,-536.5581\"/>\n</g>\n<!-- 140614559825592 -->\n<g id=\"node24\" class=\"node\">\n<title>140614559825592</title>\n<polygon fill=\"#d3d3d3\" stroke=\"#000000\" points=\"479,-341 406,-341 406,-320 479,-320 479,-341\"/>\n<text text-anchor=\"middle\" x=\"442.5\" y=\"-327.4\" font-family=\"Times,serif\" font-size=\"12.00\" fill=\"#000000\">TBackward</text>\n</g>\n<!-- 140614559825592&#45;&gt;140614559822792 -->\n<g id=\"edge23\" class=\"edge\">\n<title>140614559825592&#45;&gt;140614559822792</title>\n<path fill=\"none\" stroke=\"#000000\" d=\"M427.3122,-319.7166C410.992,-308.1293 384.8486,-289.5675 365.898,-276.1126\"/>\n<polygon fill=\"#000000\" stroke=\"#000000\" points=\"367.6832,-273.0876 357.5031,-270.1522 363.6307,-278.7953 367.6832,-273.0876\"/>\n</g>\n<!-- 140614560038696 -->\n<g id=\"node25\" class=\"node\">\n<title>140614560038696</title>\n<polygon fill=\"#add8e6\" stroke=\"#000000\" points=\"477,-419 408,-419 408,-384 477,-384 477,-419\"/>\n<text text-anchor=\"middle\" x=\"442.5\" y=\"-391.4\" font-family=\"Times,serif\" font-size=\"12.00\" fill=\"#000000\"> (256, 576)</text>\n</g>\n<!-- 140614560038696&#45;&gt;140614559825592 -->\n<g id=\"edge24\" class=\"edge\">\n<title>140614560038696&#45;&gt;140614559825592</title>\n<path fill=\"none\" stroke=\"#000000\" d=\"M442.5,-383.9494C442.5,-374.058 442.5,-361.6435 442.5,-351.2693\"/>\n<polygon fill=\"#000000\" stroke=\"#000000\" points=\"446.0001,-351.0288 442.5,-341.0288 439.0001,-351.0289 446.0001,-351.0288\"/>\n</g>\n<!-- 140614560318240 -->\n<g id=\"node26\" class=\"node\">\n<title>140614560318240</title>\n<polygon fill=\"#d3d3d3\" stroke=\"#000000\" points=\"481,-199 408,-199 408,-178 481,-178 481,-199\"/>\n<text text-anchor=\"middle\" x=\"444.5\" y=\"-185.4\" font-family=\"Times,serif\" font-size=\"12.00\" fill=\"#000000\">TBackward</text>\n</g>\n<!-- 140614560318240&#45;&gt;140614560319808 -->\n<g id=\"edge25\" class=\"edge\">\n<title>140614560318240&#45;&gt;140614560319808</title>\n<path fill=\"none\" stroke=\"#000000\" d=\"M427.6568,-177.9317C411.4155,-167.7411 386.621,-152.1838 367.9676,-140.4797\"/>\n<polygon fill=\"#000000\" stroke=\"#000000\" points=\"369.6991,-137.4342 359.3682,-135.084 365.9787,-143.3637 369.6991,-137.4342\"/>\n</g>\n<!-- 140614559825200 -->\n<g id=\"node27\" class=\"node\">\n<title>140614559825200</title>\n<polygon fill=\"#add8e6\" stroke=\"#000000\" points=\"476,-277 413,-277 413,-242 476,-242 476,-277\"/>\n<text text-anchor=\"middle\" x=\"444.5\" y=\"-249.4\" font-family=\"Times,serif\" font-size=\"12.00\" fill=\"#000000\"> (10, 256)</text>\n</g>\n<!-- 140614559825200&#45;&gt;140614560318240 -->\n<g id=\"edge26\" class=\"edge\">\n<title>140614559825200&#45;&gt;140614560318240</title>\n<path fill=\"none\" stroke=\"#000000\" d=\"M444.5,-241.9494C444.5,-232.058 444.5,-219.6435 444.5,-209.2693\"/>\n<polygon fill=\"#000000\" stroke=\"#000000\" points=\"448.0001,-209.0288 444.5,-199.0288 441.0001,-209.0289 448.0001,-209.0288\"/>\n</g>\n</g>\n</svg>\n"
          },
          "metadata": {
            "tags": []
          },
          "execution_count": 79
        }
      ]
    }
  ]
}