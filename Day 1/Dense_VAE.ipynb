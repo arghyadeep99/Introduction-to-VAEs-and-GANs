{
  "nbformat": 4,
  "nbformat_minor": 0,
  "metadata": {
    "colab": {
      "name": "Dense VAE.ipynb",
      "provenance": [],
      "collapsed_sections": [],
      "include_colab_link": true
    },
    "kernelspec": {
      "name": "python3",
      "display_name": "Python 3"
    },
    "accelerator": "GPU"
  },
  "cells": [
    {
      "cell_type": "markdown",
      "metadata": {
        "id": "view-in-github",
        "colab_type": "text"
      },
      "source": [
        "<a href=\"https://colab.research.google.com/github/smlra-kjsce/Introduction-to-VAEs-and-GANs/blob/master/Dense_VAE.ipynb\" target=\"_parent\"><img src=\"https://colab.research.google.com/assets/colab-badge.svg\" alt=\"Open In Colab\"/></a>"
      ]
    },
    {
      "cell_type": "markdown",
      "metadata": {
        "id": "RpuFcNpdQbUe",
        "colab_type": "text"
      },
      "source": [
        "#Variational Autoencoders"
      ]
    },
    {
      "cell_type": "code",
      "metadata": {
        "id": "4wdK8g7FQSIg",
        "colab_type": "code",
        "colab": {}
      },
      "source": [
        "# make sure to enable GPU acceleration! == Done\n",
        "device = 'cuda'\n",
        "\n",
        "#!pip3 install torch torchvision\n",
        "!pip install torchviz\n",
        "\n",
        "#Import Libraries\n",
        "\n",
        "\n",
        "from __future__ import print_function\n",
        "import argparse\n",
        "import torch\n",
        "import torch.nn as nn\n",
        "import torch.nn.functional as F\n",
        "import torch.optim as optim\n",
        "from torchvision import datasets, transforms\n",
        "from torch.autograd import Variable\n",
        "import numpy as np\n",
        "import matplotlib.pyplot as plt\n",
        "from math import pi"
      ],
      "execution_count": 0,
      "outputs": []
    },
    {
      "cell_type": "code",
      "metadata": {
        "id": "ne1BN11cHAzY",
        "colab_type": "code",
        "colab": {}
      },
      "source": [
        "args={}\n",
        "kwargs={}\n",
        "args['batch_size']=1000\n",
        "args['test_batch_size']=1000\n",
        "args['epochs']= 42 #The number of Epochs is the number of times you go through the full dataset. \n",
        "args['lr']=0.01 #Learning rate is how fast it will decend. \n",
        "args['momentum']=0.5 #SGD momentum (default: 0.5) Momentum is a moving average of our gradients (helps to keep direction).\n",
        "\n",
        "args['seed']=1 #random seed\n",
        "args['log_interval']=10\n",
        "args['cuda']=True\n",
        "args['latent_dim']=2"
      ],
      "execution_count": 0,
      "outputs": []
    },
    {
      "cell_type": "code",
      "metadata": {
        "id": "IFkal8zqHU--",
        "colab_type": "code",
        "colab": {}
      },
      "source": [
        "#load the data\n",
        "train_loader = torch.utils.data.DataLoader(\n",
        "    datasets.MNIST('../data', train=True, download=True,\n",
        "                   transform=transforms.Compose([\n",
        "                       transforms.ToTensor()\n",
        "                   ])),\n",
        "    batch_size=args['batch_size'], shuffle=True, **kwargs)\n",
        "test_loader = torch.utils.data.DataLoader(\n",
        "    datasets.MNIST('../data', train=False, transform=transforms.Compose([\n",
        "                       transforms.ToTensor()\n",
        "                   ])),\n",
        "    batch_size=args['test_batch_size'], shuffle=True, **kwargs)\n",
        "\n",
        "data = datasets.MNIST('../data', train=False, transform=transforms.Compose([\n",
        "                       transforms.ToTensor(),\n",
        "                       transforms.Normalize((0.1307,), (0.3081,))\n",
        "                   ]))"
      ],
      "execution_count": 0,
      "outputs": []
    },
    {
      "cell_type": "code",
      "metadata": {
        "id": "PFbyG-mNHXQt",
        "colab_type": "code",
        "colab": {}
      },
      "source": [
        "class VAE(nn.Module):\n",
        "    def __init__(self, x_dim, h_dim1, h_dim2, z_dim):\n",
        "        super(VAE, self).__init__()\n",
        "        \n",
        "        # encoder part\n",
        "        self.fc1 = nn.Linear(x_dim, h_dim1)\n",
        "        self.fc2 = nn.Linear(h_dim1, h_dim2)\n",
        "        self.fc31 = nn.Linear(h_dim2, z_dim)\n",
        "        self.fc32 = nn.Linear(h_dim2, z_dim)\n",
        "        # decoder part\n",
        "        self.fc4 = nn.Linear(z_dim, h_dim2)\n",
        "        self.fc5 = nn.Linear(h_dim2, h_dim1)\n",
        "        self.fc6 = nn.Linear(h_dim1, x_dim)\n",
        "    \n",
        "    def sampling(self, mu, log_var):\n",
        "        std = torch.exp(0.5*log_var)\n",
        "        eps = torch.randn_like(std)\n",
        "        return eps.mul(std).add_(mu) # return z sample\n",
        "    \n",
        "    def forward(self, x):\n",
        "        self.x = x.view(-1,784)\n",
        "        self.after_fc1 = F.relu(self.fc1(self.x))\n",
        "        self.after_fc2 = F.relu(self.fc2(self.after_fc1))\n",
        "        \n",
        "        self.after_mu = self.fc31(self.after_fc2)\n",
        "        self.after_var = self.fc32(self.after_fc2)\n",
        "        self.z = self.sampling(self.after_mu, self.after_var)\n",
        "        \n",
        "        self.after_fc4 = F.relu(self.fc4(self.z))\n",
        "        self.after_fc5 = F.relu(self.fc5(self.after_fc4))\n",
        "        self.after_fc6 = self.fc6(self.after_fc5)\n",
        "        \n",
        "        return F.sigmoid(self.after_fc6), self.after_mu, self.after_var\n",
        "\n",
        "# build model\n",
        "vae = VAE(x_dim=784, h_dim1= 512, h_dim2=256, z_dim=args['latent_dim'])\n",
        "if torch.cuda.is_available():\n",
        "    vae.cuda()"
      ],
      "execution_count": 0,
      "outputs": []
    },
    {
      "cell_type": "code",
      "metadata": {
        "id": "vLW1fcyAHiUe",
        "colab_type": "code",
        "colab": {}
      },
      "source": [
        "optimizer = optim.Adam(vae.parameters())\n",
        "# return reconstruction error + KL divergence losses\n",
        "def loss_function(recon_x, x, mu, log_var):\n",
        "    BCE = F.binary_cross_entropy(recon_x, x.view(-1, 784), reduction='sum')\n",
        "    KLD = -0.5 * torch.sum(1 + log_var - mu.pow(2) - log_var.exp())\n",
        "    return BCE + KLD"
      ],
      "execution_count": 0,
      "outputs": []
    },
    {
      "cell_type": "code",
      "metadata": {
        "id": "0xg6kPxMH5gc",
        "colab_type": "code",
        "colab": {}
      },
      "source": [
        "def train(epoch):\n",
        "    vae.train()\n",
        "    train_loss = 0\n",
        "    for batch_idx, (data, _) in enumerate(train_loader):\n",
        "        data = data.cuda()\n",
        "        optimizer.zero_grad()\n",
        "        \n",
        "        recon_batch, mu, log_var = vae(data)\n",
        "        loss = loss_function(recon_batch, data, mu, log_var)\n",
        "        \n",
        "        loss.backward()\n",
        "        train_loss += loss.item()\n",
        "        optimizer.step()\n",
        "        \n",
        "        if batch_idx % 100 == 0:\n",
        "            print('Train Epoch: {} [{}/{} ({:.0f}%)]\\tLoss: {:.6f}'.format(\n",
        "                epoch, batch_idx * len(data), len(train_loader.dataset),\n",
        "                100. * batch_idx / len(train_loader), loss.item() / len(data)))\n",
        "    print('====> Epoch: {} Average loss: {:.4f}'.format(epoch, train_loss / len(train_loader.dataset)))"
      ],
      "execution_count": 0,
      "outputs": []
    },
    {
      "cell_type": "code",
      "metadata": {
        "id": "z1gXozyxH9NC",
        "colab_type": "code",
        "outputId": "2c88e5f2-6d70-40ac-b214-758db869e977",
        "colab": {
          "base_uri": "https://localhost:8080/",
          "height": 1000
        }
      },
      "source": [
        "for epoch in range(args['epochs']):\n",
        "  train(epoch)"
      ],
      "execution_count": 0,
      "outputs": [
        {
          "output_type": "stream",
          "text": [
            "/usr/local/lib/python3.6/dist-packages/torch/nn/functional.py:1350: UserWarning: nn.functional.sigmoid is deprecated. Use torch.sigmoid instead.\n",
            "  warnings.warn(\"nn.functional.sigmoid is deprecated. Use torch.sigmoid instead.\")\n"
          ],
          "name": "stderr"
        },
        {
          "output_type": "stream",
          "text": [
            "Train Epoch: 0 [0/60000 (0%)]\tLoss: 543.717562\n",
            "====> Epoch: 0 Average loss: 238.7989\n",
            "Train Epoch: 1 [0/60000 (0%)]\tLoss: 195.782141\n",
            "====> Epoch: 1 Average loss: 184.4171\n",
            "Train Epoch: 2 [0/60000 (0%)]\tLoss: 177.414062\n",
            "====> Epoch: 2 Average loss: 173.8885\n",
            "Train Epoch: 3 [0/60000 (0%)]\tLoss: 170.528578\n",
            "====> Epoch: 3 Average loss: 168.5926\n",
            "Train Epoch: 4 [0/60000 (0%)]\tLoss: 165.286937\n",
            "====> Epoch: 4 Average loss: 165.1644\n",
            "Train Epoch: 5 [0/60000 (0%)]\tLoss: 164.751812\n",
            "====> Epoch: 5 Average loss: 162.5991\n",
            "Train Epoch: 6 [0/60000 (0%)]\tLoss: 160.714672\n",
            "====> Epoch: 6 Average loss: 160.6124\n",
            "Train Epoch: 7 [0/60000 (0%)]\tLoss: 160.050000\n",
            "====> Epoch: 7 Average loss: 158.8474\n",
            "Train Epoch: 8 [0/60000 (0%)]\tLoss: 159.056422\n",
            "====> Epoch: 8 Average loss: 157.4453\n",
            "Train Epoch: 9 [0/60000 (0%)]\tLoss: 154.777531\n",
            "====> Epoch: 9 Average loss: 156.0925\n",
            "Train Epoch: 10 [0/60000 (0%)]\tLoss: 156.962016\n",
            "====> Epoch: 10 Average loss: 154.8308\n",
            "Train Epoch: 11 [0/60000 (0%)]\tLoss: 152.563375\n",
            "====> Epoch: 11 Average loss: 153.6636\n",
            "Train Epoch: 12 [0/60000 (0%)]\tLoss: 151.608656\n",
            "====> Epoch: 12 Average loss: 152.6121\n",
            "Train Epoch: 13 [0/60000 (0%)]\tLoss: 150.309984\n",
            "====> Epoch: 13 Average loss: 151.7049\n",
            "Train Epoch: 14 [0/60000 (0%)]\tLoss: 149.489406\n",
            "====> Epoch: 14 Average loss: 150.7736\n",
            "Train Epoch: 15 [0/60000 (0%)]\tLoss: 147.717484\n",
            "====> Epoch: 15 Average loss: 149.9996\n",
            "Train Epoch: 16 [0/60000 (0%)]\tLoss: 149.956656\n",
            "====> Epoch: 16 Average loss: 149.2849\n",
            "Train Epoch: 17 [0/60000 (0%)]\tLoss: 146.808984\n",
            "====> Epoch: 17 Average loss: 148.5035\n",
            "Train Epoch: 18 [0/60000 (0%)]\tLoss: 146.359094\n",
            "====> Epoch: 18 Average loss: 147.9447\n",
            "Train Epoch: 19 [0/60000 (0%)]\tLoss: 149.620391\n",
            "====> Epoch: 19 Average loss: 147.3291\n",
            "Train Epoch: 20 [0/60000 (0%)]\tLoss: 147.968828\n",
            "====> Epoch: 20 Average loss: 146.7695\n",
            "Train Epoch: 21 [0/60000 (0%)]\tLoss: 146.015703\n",
            "====> Epoch: 21 Average loss: 146.4448\n",
            "Train Epoch: 22 [0/60000 (0%)]\tLoss: 144.643625\n",
            "====> Epoch: 22 Average loss: 145.9682\n",
            "Train Epoch: 23 [0/60000 (0%)]\tLoss: 144.447891\n",
            "====> Epoch: 23 Average loss: 145.5198\n",
            "Train Epoch: 24 [0/60000 (0%)]\tLoss: 141.763609\n",
            "====> Epoch: 24 Average loss: 145.1594\n",
            "Train Epoch: 25 [0/60000 (0%)]\tLoss: 145.880203\n",
            "====> Epoch: 25 Average loss: 144.8161\n",
            "Train Epoch: 26 [0/60000 (0%)]\tLoss: 145.623547\n",
            "====> Epoch: 26 Average loss: 144.3858\n",
            "Train Epoch: 27 [0/60000 (0%)]\tLoss: 144.284594\n",
            "====> Epoch: 27 Average loss: 144.1128\n",
            "Train Epoch: 28 [0/60000 (0%)]\tLoss: 143.462016\n",
            "====> Epoch: 28 Average loss: 143.8797\n",
            "Train Epoch: 29 [0/60000 (0%)]\tLoss: 140.753813\n",
            "====> Epoch: 29 Average loss: 143.5939\n",
            "Train Epoch: 30 [0/60000 (0%)]\tLoss: 144.632625\n",
            "====> Epoch: 30 Average loss: 143.1965\n",
            "Train Epoch: 31 [0/60000 (0%)]\tLoss: 143.728438\n",
            "====> Epoch: 31 Average loss: 143.0150\n",
            "Train Epoch: 32 [0/60000 (0%)]\tLoss: 140.543031\n",
            "====> Epoch: 32 Average loss: 142.7703\n",
            "Train Epoch: 33 [0/60000 (0%)]\tLoss: 143.872297\n",
            "====> Epoch: 33 Average loss: 142.5829\n",
            "Train Epoch: 34 [0/60000 (0%)]\tLoss: 143.280438\n",
            "====> Epoch: 34 Average loss: 142.3437\n",
            "Train Epoch: 35 [0/60000 (0%)]\tLoss: 142.242734\n",
            "====> Epoch: 35 Average loss: 142.1140\n",
            "Train Epoch: 36 [0/60000 (0%)]\tLoss: 141.544312\n",
            "====> Epoch: 36 Average loss: 141.9683\n",
            "Train Epoch: 37 [0/60000 (0%)]\tLoss: 140.854969\n",
            "====> Epoch: 37 Average loss: 141.7412\n",
            "Train Epoch: 38 [0/60000 (0%)]\tLoss: 138.618125\n",
            "====> Epoch: 38 Average loss: 141.5433\n",
            "Train Epoch: 39 [0/60000 (0%)]\tLoss: 143.133719\n",
            "====> Epoch: 39 Average loss: 141.3980\n",
            "Train Epoch: 40 [0/60000 (0%)]\tLoss: 140.153219\n",
            "====> Epoch: 40 Average loss: 141.1594\n",
            "Train Epoch: 41 [0/60000 (0%)]\tLoss: 142.079531\n",
            "====> Epoch: 41 Average loss: 140.9807\n"
          ],
          "name": "stdout"
        }
      ]
    },
    {
      "cell_type": "code",
      "metadata": {
        "id": "I81rVYTsIDY5",
        "colab_type": "code",
        "colab": {}
      },
      "source": [
        "# Evaluating an Example\n",
        "e = 1\n",
        "vae.train()\n",
        "example = data.data[e]\n",
        "\n",
        "if args['cuda']:\n",
        "    vae.cuda()\n",
        "    example = example.cuda()\n",
        "\n",
        "example = Variable(example,volatile=True).float()\n",
        "print(vae(example))\n",
        "\n",
        "plt.matshow(data.data[e])\n",
        "plt.colorbar()"
      ],
      "execution_count": 0,
      "outputs": []
    },
    {
      "cell_type": "code",
      "metadata": {
        "id": "HFd2CwBSFhrR",
        "colab_type": "code",
        "outputId": "e0876916-174c-4068-a046-582df1dd5c21",
        "colab": {
          "base_uri": "https://localhost:8080/",
          "height": 264
        }
      },
      "source": [
        "plt.matshow(vae.after_fc2.cpu().detach().numpy().reshape(16,16))\n",
        "plt.colorbar()\n",
        "plt.show()"
      ],
      "execution_count": 0,
      "outputs": [
        {
          "output_type": "display_data",
          "data": {
            "image/png": "[encoded data removed]",
            "text/plain": [
              "<Figure size 288x288 with 2 Axes>"
            ]
          },
          "metadata": {
            "tags": []
          }
        }
      ]
    },
    {
      "cell_type": "code",
      "metadata": {
        "id": "4OnJtGcXqQ7g",
        "colab_type": "code",
        "outputId": "aadb6bec-76e1-4208-e8fb-6b968f352f8d",
        "colab": {
          "base_uri": "https://localhost:8080/",
          "height": 505
        }
      },
      "source": [
        "img = plt.matshow(vae.after_mu.cpu().detach().numpy())\n",
        "plt.colorbar()\n",
        "plt.show()\n",
        "\n",
        "plt.matshow(vae.after_var.cpu().detach().numpy())\n",
        "plt.colorbar()\n",
        "plt.show()"
      ],
      "execution_count": 0,
      "outputs": [
        {
          "output_type": "display_data",
          "data": {
            "image/png": "[encoded data removed]",
            "text/plain": [
              "<Figure size 576x288 with 2 Axes>"
            ]
          },
          "metadata": {
            "tags": []
          }
        },
        {
          "output_type": "display_data",
          "data": {
            "image/png": "[encoded data removed]",
            "text/plain": [
              "<Figure size 576x288 with 2 Axes>"
            ]
          },
          "metadata": {
            "tags": []
          }
        }
      ]
    },
    {
      "cell_type": "code",
      "metadata": {
        "id": "qAvk0jsg8sEe",
        "colab_type": "code",
        "outputId": "08a7f952-d8dd-4ab1-d8ed-a17347c7eda6",
        "colab": {
          "base_uri": "https://localhost:8080/",
          "height": 264
        }
      },
      "source": [
        "plt.matshow(vae.after_fc4.cpu().detach().numpy().reshape(16,16))\n",
        "plt.colorbar()\n",
        "plt.show()"
      ],
      "execution_count": 0,
      "outputs": [
        {
          "output_type": "display_data",
          "data": {
            "image/png": "[encoded data removed]",
            "text/plain": [
              "<Figure size 288x288 with 2 Axes>"
            ]
          },
          "metadata": {
            "tags": []
          }
        }
      ]
    },
    {
      "cell_type": "code",
      "metadata": {
        "id": "vIvMuqAEGsoS",
        "colab_type": "code",
        "outputId": "957e7482-f777-4373-e246-707f11beccc8",
        "colab": {
          "base_uri": "https://localhost:8080/",
          "height": 261
        }
      },
      "source": [
        "plt.matshow(vae.after_fc6.cpu().detach().numpy().reshape(28,28))\n",
        "plt.colorbar()\n",
        "plt.show()"
      ],
      "execution_count": 0,
      "outputs": [
        {
          "output_type": "display_data",
          "data": {
            "image/png": "[encoded data removed]",
            "text/plain": [
              "<Figure size 288x288 with 2 Axes>"
            ]
          },
          "metadata": {
            "tags": []
          }
        }
      ]
    },
    {
      "cell_type": "code",
      "metadata": {
        "id": "G0VQWX0NGvzJ",
        "colab_type": "code",
        "colab": {}
      },
      "source": [
        ""
      ],
      "execution_count": 0,
      "outputs": []
    }
  ]
}